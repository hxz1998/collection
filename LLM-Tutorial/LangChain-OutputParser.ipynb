{
 "cells": [
  {
   "metadata": {},
   "cell_type": "markdown",
   "source": [
    "# 输出解析器\n",
    "\n",
    "1. 普通解析器：`PydanticOutputParser`\n",
    "2. 带有纠正的解析器 `OutputFixingParser` \n",
    "3. 带有纠正和补充内容功能的解析器 `RetryWithErrorOutputParser`"
   ],
   "id": "dce76ad9f590f799"
  },
  {
   "metadata": {
    "ExecuteTime": {
     "end_time": "2024-09-01T15:24:18.340777Z",
     "start_time": "2024-09-01T15:24:18.115792Z"
    }
   },
   "cell_type": "code",
   "source": [
    "from langchain_community.chat_models import ChatTongyi\n",
    "\n",
    "API_KEY = \"sk-API_KEY\"\n",
    "model = ChatTongyi(model='qwen-turbo', top_p=0.8, temperature=0.1, api_key=API_KEY)"
   ],
   "id": "23bd3155ee8fcbed",
   "outputs": [],
   "execution_count": 4
  },
  {
   "cell_type": "code",
   "id": "initial_id",
   "metadata": {
    "collapsed": true,
    "ExecuteTime": {
     "end_time": "2024-09-01T14:34:53.659144Z",
     "start_time": "2024-09-01T14:34:53.143951Z"
    }
   },
   "source": [
    "# ------Part 2\n",
    "# 创建一个空的DataFrame用于存储结果\n",
    "import pandas as pd\n",
    "df = pd.DataFrame(columns=[\"flower_type\", \"price\", \"description\", \"reason\"])\n",
    "\n",
    "# 数据准备\n",
    "flowers = [\"玫瑰\", \"百合\", \"康乃馨\"]\n",
    "prices = [\"50\", \"30\", \"20\"]\n",
    "\n",
    "# 定义我们想要接收的数据格式\n",
    "from pydantic import BaseModel, Field\n",
    "class FlowerDescription(BaseModel):\n",
    "    flower_type: str = Field(description=\"鲜花的种类\")\n",
    "    price: int = Field(description=\"鲜花的价格\")\n",
    "    description: str = Field(description=\"鲜花的描述文案\")\n",
    "    reason: str = Field(description=\"为什么要这样写这个文案\")\n"
   ],
   "outputs": [],
   "execution_count": 3
  },
  {
   "metadata": {
    "ExecuteTime": {
     "end_time": "2024-09-01T14:34:55.430132Z",
     "start_time": "2024-09-01T14:34:55.404425Z"
    }
   },
   "cell_type": "code",
   "source": [
    "\n",
    "# ------Part 3\n",
    "# 创建输出解析器\n",
    "from langchain.output_parsers import PydanticOutputParser\n",
    "output_parser = PydanticOutputParser(pydantic_object=FlowerDescription)\n",
    "\n",
    "# 获取输出格式指示\n",
    "format_instructions = output_parser.get_format_instructions()\n",
    "# 打印提示\n",
    "print(\"输出格式：\",format_instructions)\n"
   ],
   "id": "562baa72fa1dbed6",
   "outputs": [
    {
     "name": "stdout",
     "output_type": "stream",
     "text": [
      "输出格式： The output should be formatted as a JSON instance that conforms to the JSON schema below.\n",
      "\n",
      "As an example, for the schema {\"properties\": {\"foo\": {\"title\": \"Foo\", \"description\": \"a list of strings\", \"type\": \"array\", \"items\": {\"type\": \"string\"}}}, \"required\": [\"foo\"]}\n",
      "the object {\"foo\": [\"bar\", \"baz\"]} is a well-formatted instance of the schema. The object {\"properties\": {\"foo\": [\"bar\", \"baz\"]}} is not well-formatted.\n",
      "\n",
      "Here is the output schema:\n",
      "```\n",
      "{\"properties\": {\"flower_type\": {\"description\": \"鲜花的种类\", \"title\": \"Flower Type\", \"type\": \"string\"}, \"price\": {\"description\": \"鲜花的价格\", \"title\": \"Price\", \"type\": \"integer\"}, \"description\": {\"description\": \"鲜花的描述文案\", \"title\": \"Description\", \"type\": \"string\"}, \"reason\": {\"description\": \"为什么要这样写这个文案\", \"title\": \"Reason\", \"type\": \"string\"}}, \"required\": [\"flower_type\", \"price\", \"description\", \"reason\"]}\n",
      "```\n"
     ]
    }
   ],
   "execution_count": 4
  },
  {
   "metadata": {
    "ExecuteTime": {
     "end_time": "2024-09-01T14:34:57.453185Z",
     "start_time": "2024-09-01T14:34:57.447636Z"
    }
   },
   "cell_type": "code",
   "source": [
    "\n",
    "# ------Part 4\n",
    "# 创建提示模板\n",
    "from langchain import PromptTemplate\n",
    "prompt_template = \"\"\"您是一位专业的鲜花店文案撰写员。\n",
    "对于售价为 {price} 元的 {flower} ，您能提供一个吸引人的简短中文描述吗？\n",
    "{format_instructions}\"\"\"\n",
    "\n",
    "# 根据模板创建提示，同时在提示中加入输出解析器的说明\n",
    "prompt = PromptTemplate.from_template(prompt_template, \n",
    "       partial_variables={\"format_instructions\": format_instructions}) \n",
    "\n",
    "# 打印提示\n",
    "print(\"提示：\", prompt)\n"
   ],
   "id": "67035c894311868c",
   "outputs": [
    {
     "name": "stdout",
     "output_type": "stream",
     "text": [
      "提示： input_variables=['flower', 'price'] partial_variables={'format_instructions': 'The output should be formatted as a JSON instance that conforms to the JSON schema below.\\n\\nAs an example, for the schema {\"properties\": {\"foo\": {\"title\": \"Foo\", \"description\": \"a list of strings\", \"type\": \"array\", \"items\": {\"type\": \"string\"}}}, \"required\": [\"foo\"]}\\nthe object {\"foo\": [\"bar\", \"baz\"]} is a well-formatted instance of the schema. The object {\"properties\": {\"foo\": [\"bar\", \"baz\"]}} is not well-formatted.\\n\\nHere is the output schema:\\n```\\n{\"properties\": {\"flower_type\": {\"description\": \"鲜花的种类\", \"title\": \"Flower Type\", \"type\": \"string\"}, \"price\": {\"description\": \"鲜花的价格\", \"title\": \"Price\", \"type\": \"integer\"}, \"description\": {\"description\": \"鲜花的描述文案\", \"title\": \"Description\", \"type\": \"string\"}, \"reason\": {\"description\": \"为什么要这样写这个文案\", \"title\": \"Reason\", \"type\": \"string\"}}, \"required\": [\"flower_type\", \"price\", \"description\", \"reason\"]}\\n```'} template='您是一位专业的鲜花店文案撰写员。\\n对于售价为 {price} 元的 {flower} ，您能提供一个吸引人的简短中文描述吗？\\n{format_instructions}'\n"
     ]
    }
   ],
   "execution_count": 5
  },
  {
   "metadata": {
    "ExecuteTime": {
     "end_time": "2024-09-01T14:38:22.529415Z",
     "start_time": "2024-09-01T14:38:15.393340Z"
    }
   },
   "cell_type": "code",
   "source": [
    "# ------Part 5\n",
    "for flower, price in zip(flowers, prices):\n",
    "    # 根据提示准备模型的输入\n",
    "    prompt_input = prompt.format(flower=flower, price=price)\n",
    "    # 打印提示\n",
    "    print(\"提示：\", prompt_input)\n",
    "\n",
    "    # 获取模型的输出\n",
    "    output = model.invoke(prompt_input)\n",
    "\n",
    "    # 解析模型的输出\n",
    "    parsed_output = output_parser.parse(output.content)\n",
    "    parsed_output_dict = parsed_output.dict()  # 将Pydantic格式转换为字典\n",
    "\n",
    "    # 将解析后的输出添加到DataFrame中\n",
    "    df.loc[len(df)] = parsed_output.dict()\n",
    "\n",
    "# 打印字典\n",
    "print(\"输出的数据：\", df.to_dict(orient='records'))"
   ],
   "id": "2872033c891d3259",
   "outputs": [
    {
     "name": "stdout",
     "output_type": "stream",
     "text": [
      "提示： 您是一位专业的鲜花店文案撰写员。\n",
      "对于售价为 50 元的 玫瑰 ，您能提供一个吸引人的简短中文描述吗？\n",
      "The output should be formatted as a JSON instance that conforms to the JSON schema below.\n",
      "\n",
      "As an example, for the schema {\"properties\": {\"foo\": {\"title\": \"Foo\", \"description\": \"a list of strings\", \"type\": \"array\", \"items\": {\"type\": \"string\"}}}, \"required\": [\"foo\"]}\n",
      "the object {\"foo\": [\"bar\", \"baz\"]} is a well-formatted instance of the schema. The object {\"properties\": {\"foo\": [\"bar\", \"baz\"]}} is not well-formatted.\n",
      "\n",
      "Here is the output schema:\n",
      "```\n",
      "{\"properties\": {\"flower_type\": {\"description\": \"鲜花的种类\", \"title\": \"Flower Type\", \"type\": \"string\"}, \"price\": {\"description\": \"鲜花的价格\", \"title\": \"Price\", \"type\": \"integer\"}, \"description\": {\"description\": \"鲜花的描述文案\", \"title\": \"Description\", \"type\": \"string\"}, \"reason\": {\"description\": \"为什么要这样写这个文案\", \"title\": \"Reason\", \"type\": \"string\"}}, \"required\": [\"flower_type\", \"price\", \"description\", \"reason\"]}\n",
      "```\n",
      "提示： 您是一位专业的鲜花店文案撰写员。\n",
      "对于售价为 30 元的 百合 ，您能提供一个吸引人的简短中文描述吗？\n",
      "The output should be formatted as a JSON instance that conforms to the JSON schema below.\n",
      "\n",
      "As an example, for the schema {\"properties\": {\"foo\": {\"title\": \"Foo\", \"description\": \"a list of strings\", \"type\": \"array\", \"items\": {\"type\": \"string\"}}}, \"required\": [\"foo\"]}\n",
      "the object {\"foo\": [\"bar\", \"baz\"]} is a well-formatted instance of the schema. The object {\"properties\": {\"foo\": [\"bar\", \"baz\"]}} is not well-formatted.\n",
      "\n",
      "Here is the output schema:\n",
      "```\n",
      "{\"properties\": {\"flower_type\": {\"description\": \"鲜花的种类\", \"title\": \"Flower Type\", \"type\": \"string\"}, \"price\": {\"description\": \"鲜花的价格\", \"title\": \"Price\", \"type\": \"integer\"}, \"description\": {\"description\": \"鲜花的描述文案\", \"title\": \"Description\", \"type\": \"string\"}, \"reason\": {\"description\": \"为什么要这样写这个文案\", \"title\": \"Reason\", \"type\": \"string\"}}, \"required\": [\"flower_type\", \"price\", \"description\", \"reason\"]}\n",
      "```\n",
      "提示： 您是一位专业的鲜花店文案撰写员。\n",
      "对于售价为 20 元的 康乃馨 ，您能提供一个吸引人的简短中文描述吗？\n",
      "The output should be formatted as a JSON instance that conforms to the JSON schema below.\n",
      "\n",
      "As an example, for the schema {\"properties\": {\"foo\": {\"title\": \"Foo\", \"description\": \"a list of strings\", \"type\": \"array\", \"items\": {\"type\": \"string\"}}}, \"required\": [\"foo\"]}\n",
      "the object {\"foo\": [\"bar\", \"baz\"]} is a well-formatted instance of the schema. The object {\"properties\": {\"foo\": [\"bar\", \"baz\"]}} is not well-formatted.\n",
      "\n",
      "Here is the output schema:\n",
      "```\n",
      "{\"properties\": {\"flower_type\": {\"description\": \"鲜花的种类\", \"title\": \"Flower Type\", \"type\": \"string\"}, \"price\": {\"description\": \"鲜花的价格\", \"title\": \"Price\", \"type\": \"integer\"}, \"description\": {\"description\": \"鲜花的描述文案\", \"title\": \"Description\", \"type\": \"string\"}, \"reason\": {\"description\": \"为什么要这样写这个文案\", \"title\": \"Reason\", \"type\": \"string\"}}, \"required\": [\"flower_type\", \"price\", \"description\", \"reason\"]}\n",
      "```\n",
      "输出的数据： [{'flower_type': '玫瑰', 'price': 50, 'description': '这束精心挑选的玫瑰，每一朵都绽放着爱的承诺与美丽，是献给心中女神的最佳选择。', 'reason': '通过将玫瑰与爱的承诺联系起来，以及强调其作为礼物的价值，可以激发潜在顾客的情感共鸣，从而吸引他们购买。'}, {'flower_type': '百合', 'price': 30, 'description': '纯净如雪，优雅似诗，每朵百合都承载着纯洁与高贵的美好寓意。在您的生活空间中，它们不仅是视觉上的享受，更是情感的传递者。', 'reason': '选择这样的描述文案是因为百合不仅具有美丽的外观，更蕴含着深厚的文化意义和情感价值，能够打动人心，让收到这份礼物的人感受到特别的关怀和祝福。'}, {'flower_type': '康乃馨', 'price': 20, 'description': '绽放着温馨与爱意，每朵康乃馨都蕴含着对亲人的深深祝福。', 'reason': '康乃馨是母亲节、感恩节等节日的经典选择，简洁而温馨的描述能够吸引目标顾客群体，强调其情感价值和适用场合。'}, {'flower_type': '玫瑰', 'price': 50, 'description': '这束精心挑选的玫瑰，每一朵都绽放着爱的承诺与美丽，是献给心中女神的最佳选择。', 'reason': '通过将玫瑰与爱的承诺联系起来，以及强调其作为礼物的价值，可以激发潜在顾客的情感共鸣，从而吸引他们购买。'}, {'flower_type': '玫瑰', 'price': 50, 'description': '这束精心挑选的玫瑰，每一朵都绽放着爱的承诺与美丽，是献给心中女神的最佳选择。', 'reason': '通过将玫瑰与爱的承诺联系起来，以及强调其作为礼物的价值，可以激发潜在顾客的情感共鸣，从而吸引他们购买。'}, {'flower_type': '百合', 'price': 30, 'description': '纯净如雪，优雅似诗，每朵百合都承载着纯洁与高贵的美好寓意。在您的生活空间中，它们不仅是视觉上的享受，更是情感的传递者。', 'reason': '选择这样的描述文案是因为百合不仅具有美丽的外观，更蕴含着深厚的文化意义和情感价值，能够打动人心，让收到这份礼物的人感受到特别的关怀和祝福。'}, {'flower_type': '康乃馨', 'price': 20, 'description': '绽放着温馨与爱意，每朵康乃馨都蕴含着对亲人的深深祝福。', 'reason': '康乃馨是母亲节、感恩节等节日的经典选择，简洁而温馨的描述能够吸引目标顾客群体，强调其情感价值和适用场合。'}]\n"
     ]
    }
   ],
   "execution_count": 8
  },
  {
   "metadata": {
    "ExecuteTime": {
     "end_time": "2024-09-01T15:05:12.103305Z",
     "start_time": "2024-09-01T15:05:09.256468Z"
    }
   },
   "cell_type": "code",
   "source": [
    "# 导入所需要的库和模块\n",
    "from langchain.output_parsers import PydanticOutputParser, OutputFixingParser, RetryWithErrorOutputParser\n",
    "from pydantic import BaseModel, Field\n",
    "from typing import List\n",
    "\n",
    "# 使用Pydantic创建一个数据格式，表示花\n",
    "class Flower(BaseModel):\n",
    "    name: str = Field(description=\"name of a flower\")\n",
    "    colors: List[str] = Field(description=\"the colors of this flower\")\n",
    "# 定义一个用于获取某种花的颜色列表的查询\n",
    "flower_query = \"Generate the charaters for a random flower.\"\n",
    "\n",
    "# 定义一个格式不正确的输出\n",
    "misformatted = \"{'name': '康乃馨', 'colors': ['粉红色','白色','红色','紫色','黄色']}\"\n",
    "\n",
    "# # 创建一个用于解析输出的Pydantic解析器，此处希望解析为Flower格式\n",
    "parser = PydanticOutputParser(pydantic_object=Flower)\n",
    "# # 使用Pydantic解析器解析不正确的输出\n",
    "# parser.parse(misformatted)\n",
    "\n",
    "# 使用OutputFixingParser创建一个新的解析器，该解析器能够纠正格式不正确的输出\n",
    "new_parser = OutputFixingParser.from_llm(max_retries=2, parser=parser, llm=ChatTongyi(model='qwen-plus', top_p=0.8, temperature=0.1, api_key=API_KEY))\n",
    "# 使用新的解析器解析不正确的输出\n",
    "result = new_parser.parse(misformatted) # 错误被自动修正\n",
    "print(result) # 打印解析后的输出结果\n"
   ],
   "id": "fe276e017e0dcbfd",
   "outputs": [
    {
     "name": "stdout",
     "output_type": "stream",
     "text": [
      "name='康乃馨' colors=['粉红色', '白色', '红色', '紫色', '黄色']\n"
     ]
    }
   ],
   "execution_count": 21
  },
  {
   "metadata": {
    "ExecuteTime": {
     "end_time": "2024-09-02T13:45:20.035660Z",
     "start_time": "2024-09-02T13:45:15.164101Z"
    }
   },
   "cell_type": "code",
   "source": [
    "# 定义一个模板字符串，这个模板将用于生成提问\n",
    "template = \"\"\"Based on the user question, provide an Action and Action Input for what step should be taken.\n",
    "{format_instructions}\n",
    "Question: {query}\n",
    "Response:\"\"\"\n",
    "\n",
    "# 定义一个Pydantic数据格式，它描述了一个\"行动\"类及其属性\n",
    "from pydantic import BaseModel, Field\n",
    "class Action(BaseModel):\n",
    "    action: str = Field(description=\"action to take\")\n",
    "    action_input: str = Field(description=\"input to the action\")\n",
    "\n",
    "# 使用Pydantic格式Action来初始化一个输出解析器\n",
    "from langchain.output_parsers import PydanticOutputParser, OutputFixingParser, RetryWithErrorOutputParser\n",
    "parser = PydanticOutputParser(pydantic_object=Action)\n",
    "\n",
    "# 定义一个提示模板，它将用于向模型提问\n",
    "from langchain.prompts import PromptTemplate\n",
    "prompt = PromptTemplate(\n",
    "    template=\"Answer the user query.\\n{format_instructions}\\n{query}\\n\",\n",
    "    input_variables=[\"query\"],\n",
    "    partial_variables={\"format_instructions\": parser.get_format_instructions()},\n",
    ")\n",
    "prompt_value = prompt.format_prompt(query=\"What are the colors of Orchid?\")\n",
    "\n",
    "# 定义一个错误格式的字符串\n",
    "bad_response = '{\"action\": \"search\"}'\n",
    "# parser.parse(bad_response) # 如果直接解析，它会引发一个错误\n",
    "\n",
    "fix_parser = OutputFixingParser.from_llm(parser=parser, llm=ChatTongyi(model='qwen-plus', top_p=0.8, temperature=0.1, api_key=API_KEY))\n",
    "parse_result = fix_parser.parse(bad_response)\n",
    "print('OutputFixingParser的parse结果:',parse_result)\n",
    "\n",
    "retry_parser = RetryWithErrorOutputParser.from_llm(\n",
    "    parser=parser, llm=ChatTongyi(model='qwen-plus', top_p=0.8, temperature=0.1, api_key=API_KEY)\n",
    ")\n",
    "parse_result = retry_parser.parse_with_prompt(bad_response, prompt_value)\n",
    "print('RetryWithErrorOutputParser的parse结果:',parse_result)"
   ],
   "id": "f33864824e41cfc9",
   "outputs": [
    {
     "name": "stdout",
     "output_type": "stream",
     "text": [
      "OutputFixingParser的parse结果: action='search' action_input='query terms'\n",
      "RetryWithErrorOutputParser的parse结果: action='search' action_input='colors of orchid'\n"
     ]
    }
   ],
   "execution_count": 6
  }
 ],
 "metadata": {
  "kernelspec": {
   "display_name": "Python 3",
   "language": "python",
   "name": "python3"
  },
  "language_info": {
   "codemirror_mode": {
    "name": "ipython",
    "version": 2
   },
   "file_extension": ".py",
   "mimetype": "text/x-python",
   "name": "python",
   "nbconvert_exporter": "python",
   "pygments_lexer": "ipython2",
   "version": "2.7.6"
  }
 },
 "nbformat": 4,
 "nbformat_minor": 5
}
