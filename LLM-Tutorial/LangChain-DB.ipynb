{
 "cells": [
  {
   "metadata": {
    "ExecuteTime": {
     "end_time": "2024-09-23T15:39:20.286885Z",
     "start_time": "2024-09-23T15:39:20.281260Z"
    }
   },
   "cell_type": "code",
   "source": "API_KEY = \"sk-API_KEY\"",
   "id": "99b831e8dd54ce07",
   "outputs": [],
   "execution_count": 1
  },
  {
   "metadata": {},
   "cell_type": "code",
   "outputs": [],
   "execution_count": null,
   "source": [
    "# 导入sqlite3库\n",
    "import sqlite3\n",
    "\n",
    "# 连接到数据库\n",
    "conn = sqlite3.connect('FlowerShop.db')\n",
    "cursor = conn.cursor()\n",
    "\n",
    "# 执行SQL命令来创建Flowers表\n",
    "cursor.execute('''\n",
    "        CREATE TABLE Flowers (\n",
    "            ID INTEGER PRIMARY KEY, \n",
    "            Name TEXT NOT NULL, \n",
    "            Type TEXT NOT NULL, \n",
    "            Source TEXT NOT NULL, \n",
    "            PurchasePrice REAL, \n",
    "            SalePrice REAL,\n",
    "            StockQuantity INTEGER, \n",
    "            SoldQuantity INTEGER, \n",
    "            ExpiryDate DATE,  \n",
    "            Description TEXT, \n",
    "            EntryDate DATE DEFAULT CURRENT_DATE \n",
    "        );\n",
    "    ''')\n",
    "\n",
    "# 插入5种鲜花的数据\n",
    "flowers = [\n",
    "    ('Rose', 'Flower', 'France', 1.2, 2.5, 100, 10, '2023-12-31', 'A beautiful red rose'),\n",
    "    ('Tulip', 'Flower', 'Netherlands', 0.8, 2.0, 150, 25, '2023-12-31', 'A colorful tulip'),\n",
    "    ('Lily', 'Flower', 'China', 1.5, 3.0, 80, 5, '2023-12-31', 'An elegant white lily'),\n",
    "    ('Daisy', 'Flower', 'USA', 0.7, 1.8, 120, 15, '2023-12-31', 'A cheerful daisy flower'),\n",
    "    ('Orchid', 'Flower', 'Brazil', 2.0, 4.0, 50, 2, '2023-12-31', 'A delicate purple orchid')\n",
    "]\n",
    "\n",
    "for flower in flowers:\n",
    "    cursor.execute('''\n",
    "        INSERT INTO Flowers (Name, Type, Source, PurchasePrice, SalePrice, StockQuantity, SoldQuantity, ExpiryDate, Description) \n",
    "        VALUES (?, ?, ?, ?, ?, ?, ?, ?, ?);\n",
    "    ''', flower)\n",
    "\n",
    "# 提交更改\n",
    "conn.commit()\n",
    "\n",
    "# 关闭数据库连接\n",
    "conn.close()"
   ],
   "id": "335bfb88ea58d024"
  },
  {
   "cell_type": "code",
   "id": "initial_id",
   "metadata": {
    "collapsed": true,
    "ExecuteTime": {
     "end_time": "2024-09-23T15:40:02.185911Z",
     "start_time": "2024-09-23T15:39:45.820272Z"
    }
   },
   "source": [
    "# 导入langchain的实用工具和相关的模块\n",
    "from langchain.utilities import SQLDatabase\n",
    "from langchain_community.chat_models import ChatTongyi\n",
    "from langchain_experimental.sql import SQLDatabaseChain\n",
    "\n",
    "# 连接到FlowerShop数据库（之前我们使用的是Chinook.db）\n",
    "db = SQLDatabase.from_uri(\"sqlite:///FlowerShop.db\")\n",
    "\n",
    "# 创建OpenAI的低级语言模型（LLM）实例，这里我们设置温度为0，意味着模型输出会更加确定性\n",
    "llm = ChatTongyi(model='qwen-max', temperature=0, api_key=API_KEY)\n",
    "# 创建SQL数据库链实例，它允许我们使用LLM来查询SQL数据库\n",
    "db_chain = SQLDatabaseChain.from_llm(llm, db, verbose=True)\n",
    "\n",
    "# 运行与鲜花运营相关的问题\n",
    "response = db_chain.run(\"有多少种不同的鲜花？\")\n",
    "print(response)\n",
    "\n",
    "response = db_chain.run(\"哪种鲜花的存货数量最少？\")\n",
    "print(response)\n",
    "\n",
    "response = db_chain.run(\"平均销售价格是多少？\")\n",
    "print(response)\n",
    "\n",
    "response = db_chain.run(\"从法国进口的鲜花有多少种？\")\n",
    "print(response)\n",
    "\n",
    "response = db_chain.run(\"哪种鲜花的销售量最高？\")\n",
    "print(response)\n"
   ],
   "outputs": [
    {
     "name": "stderr",
     "output_type": "stream",
     "text": [
      "Error in StdOutCallbackHandler.on_chain_start callback: AttributeError(\"'NoneType' object has no attribute 'get'\")\n"
     ]
    },
    {
     "name": "stdout",
     "output_type": "stream",
     "text": [
      "有多少种不同的鲜花？\n",
      "SQLQuery:\u001B[32;1m\u001B[1;3mSELECT COUNT(DISTINCT \"Name\") FROM \"Flowers\";\u001B[0m\n",
      "SQLResult: \u001B[33;1m\u001B[1;3m[(5,)]\u001B[0m\n",
      "Answer:"
     ]
    },
    {
     "name": "stderr",
     "output_type": "stream",
     "text": [
      "Error in StdOutCallbackHandler.on_chain_start callback: AttributeError(\"'NoneType' object has no attribute 'get'\")\n"
     ]
    },
    {
     "name": "stdout",
     "output_type": "stream",
     "text": [
      "\u001B[32;1m\u001B[1;3m有5种不同的鲜花。\u001B[0m\n",
      "\u001B[1m> Finished chain.\u001B[0m\n",
      "有5种不同的鲜花。\n",
      "哪种鲜花的存货数量最少？\n",
      "SQLQuery:\u001B[32;1m\u001B[1;3mSELECT \"Name\" FROM \"Flowers\" ORDER BY \"StockQuantity\" ASC LIMIT 1;\u001B[0m\n",
      "SQLResult: \u001B[33;1m\u001B[1;3m[('Orchid',)]\u001B[0m\n",
      "Answer:"
     ]
    },
    {
     "name": "stderr",
     "output_type": "stream",
     "text": [
      "Error in StdOutCallbackHandler.on_chain_start callback: AttributeError(\"'NoneType' object has no attribute 'get'\")\n"
     ]
    },
    {
     "name": "stdout",
     "output_type": "stream",
     "text": [
      "\u001B[32;1m\u001B[1;3m存货数量最少的鲜花是Orchid。\u001B[0m\n",
      "\u001B[1m> Finished chain.\u001B[0m\n",
      "存货数量最少的鲜花是Orchid。\n",
      "平均销售价格是多少？\n",
      "SQLQuery:\u001B[32;1m\u001B[1;3mSELECT AVG(\"SalePrice\") FROM \"Flowers\"\u001B[0m\n",
      "SQLResult: \u001B[33;1m\u001B[1;3m[(2.66,)]\u001B[0m\n",
      "Answer:"
     ]
    },
    {
     "name": "stderr",
     "output_type": "stream",
     "text": [
      "Error in StdOutCallbackHandler.on_chain_start callback: AttributeError(\"'NoneType' object has no attribute 'get'\")\n"
     ]
    },
    {
     "name": "stdout",
     "output_type": "stream",
     "text": [
      "\u001B[32;1m\u001B[1;3m平均销售价格是2.66。\u001B[0m\n",
      "\u001B[1m> Finished chain.\u001B[0m\n",
      "平均销售价格是2.66。\n",
      "从法国进口的鲜花有多少种？\n",
      "SQLQuery:\u001B[32;1m\u001B[1;3mSELECT COUNT(*) FROM \"Flowers\" WHERE \"Source\" = 'France';\u001B[0m\n",
      "SQLResult: \u001B[33;1m\u001B[1;3m[(1,)]\u001B[0m\n",
      "Answer:"
     ]
    },
    {
     "name": "stderr",
     "output_type": "stream",
     "text": [
      "Error in StdOutCallbackHandler.on_chain_start callback: AttributeError(\"'NoneType' object has no attribute 'get'\")\n"
     ]
    },
    {
     "name": "stdout",
     "output_type": "stream",
     "text": [
      "\u001B[32;1m\u001B[1;3m从法国进口的鲜花有1种。\u001B[0m\n",
      "\u001B[1m> Finished chain.\u001B[0m\n",
      "从法国进口的鲜花有1种。\n",
      "哪种鲜花的销售量最高？\n",
      "SQLQuery:\u001B[32;1m\u001B[1;3mSELECT \"Name\" FROM \"Flowers\" ORDER BY \"SoldQuantity\" DESC LIMIT 1;\u001B[0m\n",
      "SQLResult: \u001B[33;1m\u001B[1;3m[('Tulip',)]\u001B[0m\n",
      "Answer:\u001B[32;1m\u001B[1;3mTulip的销售量最高。\u001B[0m\n",
      "\u001B[1m> Finished chain.\u001B[0m\n",
      "Tulip的销售量最高。\n"
     ]
    }
   ],
   "execution_count": 3
  }
 ],
 "metadata": {
  "kernelspec": {
   "display_name": "Python 3",
   "language": "python",
   "name": "python3"
  },
  "language_info": {
   "codemirror_mode": {
    "name": "ipython",
    "version": 2
   },
   "file_extension": ".py",
   "mimetype": "text/x-python",
   "name": "python",
   "nbconvert_exporter": "python",
   "pygments_lexer": "ipython2",
   "version": "2.7.6"
  }
 },
 "nbformat": 4,
 "nbformat_minor": 5
}
