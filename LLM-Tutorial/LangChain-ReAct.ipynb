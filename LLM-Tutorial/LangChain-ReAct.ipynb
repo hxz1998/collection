{
 "cells": [
  {
   "metadata": {},
   "cell_type": "markdown",
   "source": "# 以下的测试不能频繁进行！\n",
   "id": "f5ea7a105b69b616"
  },
  {
   "cell_type": "code",
   "id": "initial_id",
   "metadata": {
    "collapsed": true,
    "jupyter": {
     "is_executing": true
    },
    "ExecuteTime": {
     "start_time": "2024-09-22T08:38:40.796337Z"
    }
   },
   "source": [
    "from langchain.agents import load_tools\n",
    "from langchain.agents import initialize_agent\n",
    "from langchain.agents import AgentType\n",
    "from langchain_community.chat_models import ChatTongyi\n",
    "\n",
    "API_KEY = \"sk-API_KEY\"\n",
    "llm = ChatTongyi(model='qwen-turbo', top_p=0.8, temperature=0.1, api_key=API_KEY)\n",
    "\n",
    "SERPAPI_API_KEY = \"\"\n",
    "\n",
    "tools = load_tools([\"serpapi\", \"llm-math\"], llm=llm, serpapi_api_key=SERPAPI_API_KEY)\n",
    "\n",
    "agent = initialize_agent(tools, llm, agent=AgentType.ZERO_SHOT_REACT_DESCRIPTION, verbose=True)\n",
    "\n",
    "agent.run(\"目前市场上玫瑰花的平均价格是多少？如果我在此基础上加价15%卖出，应该如何定价？\")\n"
   ],
   "outputs": [
    {
     "name": "stdout",
     "output_type": "stream",
     "text": [
      "\n",
      "\n",
      "\u001B[1m> Entering new AgentExecutor chain...\u001B[0m\n",
      "\u001B[32;1m\u001B[1;3m我需要搜索当前市场上玫瑰花的平均价格。\n",
      "Action: Search\n",
      "Action Input: 玫瑰花的平均价格\u001B[0m\n",
      "Observation: \u001B[36;1m\u001B[1;3m近七日平均价为35.60 元/斤，近七日最高价为36.74 元/斤，近七日最低价为3... 以下为近期玫瑰花的价格情况： 在2024 年7 月25 日，玫瑰花行情稳定，产区时有来货，市场近期销量不大，商家出售比较积极，山东统货价格在55 - 60 元之间，市场货源供应稳定。 在20...\u001B[0m\n",
      "Thought:\u001B[32;1m\u001B[1;3m根据搜索结果，玫瑰花的平均价格约为35.60元/斤。我需要计算在基础上加价15%后的售价。\n",
      "\n",
      "Action: Calculator\n",
      "Action Input: 35.60 * 1.15\u001B[0m"
     ]
    }
   ],
   "execution_count": null
  },
  {
   "metadata": {
    "ExecuteTime": {
     "end_time": "2024-09-23T15:38:19.482601Z",
     "start_time": "2024-09-23T15:38:18.633800Z"
    }
   },
   "cell_type": "code",
   "source": "",
   "id": "e5d26886157dc11e",
   "outputs": [],
   "execution_count": 1
  }
 ],
 "metadata": {
  "kernelspec": {
   "display_name": "Python 3",
   "language": "python",
   "name": "python3"
  },
  "language_info": {
   "codemirror_mode": {
    "name": "ipython",
    "version": 2
   },
   "file_extension": ".py",
   "mimetype": "text/x-python",
   "name": "python",
   "nbconvert_exporter": "python",
   "pygments_lexer": "ipython2",
   "version": "2.7.6"
  }
 },
 "nbformat": 4,
 "nbformat_minor": 5
}
