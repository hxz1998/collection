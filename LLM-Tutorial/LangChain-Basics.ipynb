{
 "cells": [
  {
   "metadata": {},
   "cell_type": "markdown",
   "source": "# 导入LangChain包，然后指定API_KEY进行使用\n",
   "id": "8324eff03b1a58f2"
  },
  {
   "metadata": {
    "ExecuteTime": {
     "end_time": "2024-09-01T14:14:28.762286Z",
     "start_time": "2024-09-01T14:14:28.758277Z"
    }
   },
   "cell_type": "code",
   "source": "from langchain_community.chat_models import ChatTongyi",
   "id": "4ed3ce1f933f42f7",
   "outputs": [],
   "execution_count": 21
  },
  {
   "cell_type": "code",
   "id": "initial_id",
   "metadata": {
    "collapsed": true,
    "ExecuteTime": {
     "end_time": "2024-09-01T14:14:28.782040Z",
     "start_time": "2024-09-01T14:14:28.778532Z"
    }
   },
   "source": "API_KEY = \"sk-API_KEY\";",
   "outputs": [],
   "execution_count": 22
  },
  {
   "metadata": {
    "ExecuteTime": {
     "end_time": "2024-09-01T14:14:29.651121Z",
     "start_time": "2024-09-01T14:14:28.845693Z"
    }
   },
   "cell_type": "code",
   "source": [
    "model = ChatTongyi(model='qwen-turbo', top_p=0.8, temperature=0.1, api_key=API_KEY)\n",
    "print(model.invoke(\"你是谁？1+1等于多少？\"))"
   ],
   "id": "f20350a0619fcee",
   "outputs": [
    {
     "name": "stdout",
     "output_type": "stream",
     "text": [
      "content='我是阿里云开发的一款超大规模语言模型，我叫通义千问。1+1等于2。' response_metadata={'model_name': 'qwen-turbo', 'finish_reason': 'stop', 'request_id': '3b3825ab-c520-9d3a-81d2-cca05797c3f6', 'token_usage': {'input_tokens': 17, 'output_tokens': 23, 'total_tokens': 40}} id='run-ff2a57c1-c7c9-4ad0-b12f-49e07be5e981-0'\n"
     ]
    }
   ],
   "execution_count": 23
  },
  {
   "metadata": {
    "ExecuteTime": {
     "end_time": "2024-09-01T14:14:29.734813Z",
     "start_time": "2024-09-01T14:14:29.730405Z"
    }
   },
   "cell_type": "code",
   "source": [
    "import transformers\n",
    "\n",
    "transformers.__version__"
   ],
   "id": "1697a5c7c4c58e47",
   "outputs": [
    {
     "data": {
      "text/plain": [
       "'4.44.2'"
      ]
     },
     "execution_count": 24,
     "metadata": {},
     "output_type": "execute_result"
    }
   ],
   "execution_count": 24
  },
  {
   "metadata": {
    "ExecuteTime": {
     "end_time": "2024-09-01T14:14:29.857498Z",
     "start_time": "2024-09-01T14:14:29.854362Z"
    }
   },
   "cell_type": "code",
   "source": [
    "# from modelscope import AutoModelForCausalLM, AutoTokenizer\n",
    "# \n",
    "# device = \"cuda\"  # the device to load the model onto\n",
    "# model_name_or_path = \"qwen/Qwen2-7B\"\n",
    "# model = AutoModelForCausalLM.from_pretrained(\n",
    "#     model_name_or_path,\n",
    "#     torch_dtype=\"auto\",\n",
    "#     device_map=\"auto\"\n",
    "# )\n",
    "# tokenizer = AutoTokenizer.from_pretrained(model_name_or_path)\n",
    "# \n",
    "# prefix = \"北京是中国的首都\"\n",
    "# model_inputs = tokenizer([prefix], return_tensors=\"pt\").to(device)\n",
    "# \n",
    "# generated_ids = model.generate(\n",
    "#     model_inputs.input_ids,\n",
    "#     max_new_tokens=400,\n",
    "#     repetition_penalty=1.15\n",
    "# )\n",
    "# generated_ids = [\n",
    "#     output_ids[len(input_ids):] for input_ids, output_ids in zip(model_inputs.input_ids, generated_ids)\n",
    "# ]\n",
    "# \n",
    "# response = tokenizer.batch_decode(generated_ids, skip_special_tokens=True)[0]\n",
    "# print(response)"
   ],
   "id": "a5642b69e034b2a8",
   "outputs": [],
   "execution_count": 25
  },
  {
   "metadata": {
    "ExecuteTime": {
     "end_time": "2024-09-01T14:14:29.912583Z",
     "start_time": "2024-09-01T14:14:29.908584Z"
    }
   },
   "cell_type": "code",
   "source": [
    "import torch\n",
    "\n",
    "print(torch.__version__)\n",
    "print(torch.cuda.is_available())"
   ],
   "id": "7a96788b4bf839b3",
   "outputs": [
    {
     "name": "stdout",
     "output_type": "stream",
     "text": [
      "2.3.1\n",
      "True\n"
     ]
    }
   ],
   "execution_count": 26
  },
  {
   "metadata": {},
   "cell_type": "markdown",
   "source": "## 输出解析",
   "id": "92b145ae53ab9dca"
  },
  {
   "metadata": {
    "ExecuteTime": {
     "end_time": "2024-09-01T14:33:43.576191200Z",
     "start_time": "2024-09-01T14:33:09.672796Z"
    }
   },
   "cell_type": "code",
   "source": "\n",
   "id": "444de9497603e2ee",
   "outputs": [
    {
     "name": "stdout",
     "output_type": "stream",
     "text": [
      "输出格式： The output should be formatted as a JSON instance that conforms to the JSON schema below.\n",
      "\n",
      "As an example, for the schema {\"properties\": {\"foo\": {\"title\": \"Foo\", \"description\": \"a list of strings\", \"type\": \"array\", \"items\": {\"type\": \"string\"}}}, \"required\": [\"foo\"]}\n",
      "the object {\"foo\": [\"bar\", \"baz\"]} is a well-formatted instance of the schema. The object {\"properties\": {\"foo\": [\"bar\", \"baz\"]}} is not well-formatted.\n",
      "\n",
      "Here is the output schema:\n",
      "```\n",
      "{\"properties\": {\"flower_type\": {\"description\": \"鲜花的种类\", \"title\": \"Flower Type\", \"type\": \"string\"}, \"price\": {\"description\": \"鲜花的价格\", \"title\": \"Price\", \"type\": \"integer\"}, \"description\": {\"description\": \"鲜花的描述文案\", \"title\": \"Description\", \"type\": \"string\"}, \"reason\": {\"description\": \"为什么要这样写这个文案\", \"title\": \"Reason\", \"type\": \"string\"}}, \"required\": [\"flower_type\", \"price\", \"description\", \"reason\"]}\n",
      "```\n",
      "提示： input_variables=['flower', 'price'] partial_variables={'format_instructions': 'The output should be formatted as a JSON instance that conforms to the JSON schema below.\\n\\nAs an example, for the schema {\"properties\": {\"foo\": {\"title\": \"Foo\", \"description\": \"a list of strings\", \"type\": \"array\", \"items\": {\"type\": \"string\"}}}, \"required\": [\"foo\"]}\\nthe object {\"foo\": [\"bar\", \"baz\"]} is a well-formatted instance of the schema. The object {\"properties\": {\"foo\": [\"bar\", \"baz\"]}} is not well-formatted.\\n\\nHere is the output schema:\\n```\\n{\"properties\": {\"flower_type\": {\"description\": \"鲜花的种类\", \"title\": \"Flower Type\", \"type\": \"string\"}, \"price\": {\"description\": \"鲜花的价格\", \"title\": \"Price\", \"type\": \"integer\"}, \"description\": {\"description\": \"鲜花的描述文案\", \"title\": \"Description\", \"type\": \"string\"}, \"reason\": {\"description\": \"为什么要这样写这个文案\", \"title\": \"Reason\", \"type\": \"string\"}}, \"required\": [\"flower_type\", \"price\", \"description\", \"reason\"]}\\n```'} template='您是一位专业的鲜花店文案撰写员。\\n对于售价为 {price} 元的 {flower} ，您能提供一个吸引人的简短中文描述吗？\\n{format_instructions}'\n",
      "提示： 您是一位专业的鲜花店文案撰写员。\n",
      "对于售价为 50 元的 玫瑰 ，您能提供一个吸引人的简短中文描述吗？\n",
      "The output should be formatted as a JSON instance that conforms to the JSON schema below.\n",
      "\n",
      "As an example, for the schema {\"properties\": {\"foo\": {\"title\": \"Foo\", \"description\": \"a list of strings\", \"type\": \"array\", \"items\": {\"type\": \"string\"}}}, \"required\": [\"foo\"]}\n",
      "the object {\"foo\": [\"bar\", \"baz\"]} is a well-formatted instance of the schema. The object {\"properties\": {\"foo\": [\"bar\", \"baz\"]}} is not well-formatted.\n",
      "\n",
      "Here is the output schema:\n",
      "```\n",
      "{\"properties\": {\"flower_type\": {\"description\": \"鲜花的种类\", \"title\": \"Flower Type\", \"type\": \"string\"}, \"price\": {\"description\": \"鲜花的价格\", \"title\": \"Price\", \"type\": \"integer\"}, \"description\": {\"description\": \"鲜花的描述文案\", \"title\": \"Description\", \"type\": \"string\"}, \"reason\": {\"description\": \"为什么要这样写这个文案\", \"title\": \"Reason\", \"type\": \"string\"}}, \"required\": [\"flower_type\", \"price\", \"description\", \"reason\"]}\n",
      "```\n"
     ]
    },
    {
     "ename": "KeyboardInterrupt",
     "evalue": "",
     "output_type": "error",
     "traceback": [
      "\u001B[1;31m---------------------------------------------------------------------------\u001B[0m",
      "\u001B[1;31mKeyboardInterrupt\u001B[0m                         Traceback (most recent call last)",
      "Cell \u001B[1;32mIn[31], line 53\u001B[0m\n\u001B[0;32m     50\u001B[0m output \u001B[38;5;241m=\u001B[39m model\u001B[38;5;241m.\u001B[39minvoke(prompt_input)\n\u001B[0;32m     52\u001B[0m \u001B[38;5;66;03m# 解析模型的输出\u001B[39;00m\n\u001B[1;32m---> 53\u001B[0m parsed_output \u001B[38;5;241m=\u001B[39m output_parser\u001B[38;5;241m.\u001B[39mparse(output\u001B[38;5;241m.\u001B[39mcontent)\n\u001B[0;32m     54\u001B[0m parsed_output_dict \u001B[38;5;241m=\u001B[39m parsed_output\u001B[38;5;241m.\u001B[39mdict()  \u001B[38;5;66;03m# 将Pydantic格式转换为字典\u001B[39;00m\n\u001B[0;32m     56\u001B[0m \u001B[38;5;66;03m# 将解析后的输出添加到DataFrame中\u001B[39;00m\n",
      "File \u001B[1;32m_pydevd_bundle\\\\pydevd_cython_win32_311_64.pyx:1187\u001B[0m, in \u001B[0;36m_pydevd_bundle.pydevd_cython_win32_311_64.SafeCallWrapper.__call__\u001B[1;34m()\u001B[0m\n",
      "File \u001B[1;32m_pydevd_bundle\\\\pydevd_cython_win32_311_64.pyx:627\u001B[0m, in \u001B[0;36m_pydevd_bundle.pydevd_cython_win32_311_64.PyDBFrame.trace_dispatch\u001B[1;34m()\u001B[0m\n",
      "File \u001B[1;32m_pydevd_bundle\\\\pydevd_cython_win32_311_64.pyx:937\u001B[0m, in \u001B[0;36m_pydevd_bundle.pydevd_cython_win32_311_64.PyDBFrame.trace_dispatch\u001B[1;34m()\u001B[0m\n",
      "File \u001B[1;32m_pydevd_bundle\\\\pydevd_cython_win32_311_64.pyx:928\u001B[0m, in \u001B[0;36m_pydevd_bundle.pydevd_cython_win32_311_64.PyDBFrame.trace_dispatch\u001B[1;34m()\u001B[0m\n",
      "File \u001B[1;32m_pydevd_bundle\\\\pydevd_cython_win32_311_64.pyx:585\u001B[0m, in \u001B[0;36m_pydevd_bundle.pydevd_cython_win32_311_64.PyDBFrame.do_wait_suspend\u001B[1;34m()\u001B[0m\n",
      "File \u001B[1;32mD:\\Apps\\Jetbrains\\PyCharm Professional\\plugins\\python-ce\\helpers\\pydev\\pydevd.py:1207\u001B[0m, in \u001B[0;36mPyDB.do_wait_suspend\u001B[1;34m(self, thread, frame, event, arg, send_suspend_message, is_unhandled_exception)\u001B[0m\n\u001B[0;32m   1204\u001B[0m         from_this_thread\u001B[38;5;241m.\u001B[39mappend(frame_id)\n\u001B[0;32m   1206\u001B[0m \u001B[38;5;28;01mwith\u001B[39;00m \u001B[38;5;28mself\u001B[39m\u001B[38;5;241m.\u001B[39m_threads_suspended_single_notification\u001B[38;5;241m.\u001B[39mnotify_thread_suspended(thread_id, stop_reason):\n\u001B[1;32m-> 1207\u001B[0m     \u001B[38;5;28mself\u001B[39m\u001B[38;5;241m.\u001B[39m_do_wait_suspend(thread, frame, event, arg, suspend_type, from_this_thread)\n",
      "File \u001B[1;32mD:\\Apps\\Jetbrains\\PyCharm Professional\\plugins\\python-ce\\helpers\\pydev\\pydevd.py:1222\u001B[0m, in \u001B[0;36mPyDB._do_wait_suspend\u001B[1;34m(self, thread, frame, event, arg, suspend_type, from_this_thread)\u001B[0m\n\u001B[0;32m   1219\u001B[0m             \u001B[38;5;28mself\u001B[39m\u001B[38;5;241m.\u001B[39m_call_mpl_hook()\n\u001B[0;32m   1221\u001B[0m         \u001B[38;5;28mself\u001B[39m\u001B[38;5;241m.\u001B[39mprocess_internal_commands()\n\u001B[1;32m-> 1222\u001B[0m         time\u001B[38;5;241m.\u001B[39msleep(\u001B[38;5;241m0.01\u001B[39m)\n\u001B[0;32m   1224\u001B[0m \u001B[38;5;28mself\u001B[39m\u001B[38;5;241m.\u001B[39mcancel_async_evaluation(get_current_thread_id(thread), \u001B[38;5;28mstr\u001B[39m(\u001B[38;5;28mid\u001B[39m(frame)))\n\u001B[0;32m   1226\u001B[0m \u001B[38;5;66;03m# process any stepping instructions\u001B[39;00m\n",
      "\u001B[1;31mKeyboardInterrupt\u001B[0m: "
     ]
    }
   ],
   "execution_count": 31
  }
 ],
 "metadata": {
  "kernelspec": {
   "display_name": "Python 3",
   "language": "python",
   "name": "python3"
  },
  "language_info": {
   "codemirror_mode": {
    "name": "ipython",
    "version": 2
   },
   "file_extension": ".py",
   "mimetype": "text/x-python",
   "name": "python",
   "nbconvert_exporter": "python",
   "pygments_lexer": "ipython2",
   "version": "2.7.6"
  }
 },
 "nbformat": 4,
 "nbformat_minor": 5
}
