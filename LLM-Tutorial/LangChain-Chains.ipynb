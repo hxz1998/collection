{
 "cells": [
  {
   "metadata": {
    "ExecuteTime": {
     "end_time": "2024-09-03T14:32:45.373689Z",
     "start_time": "2024-09-03T14:32:44.949141Z"
    }
   },
   "cell_type": "code",
   "source": [
    "from langchain_community.chat_models import ChatTongyi\n",
    "\n",
    "API_KEY = \"sk-API_KEY\"\n",
    "model = ChatTongyi(model='qwen-turbo', top_p=0.8, temperature=0.1, api_key=API_KEY)"
   ],
   "id": "1c8b03fc063ad52a",
   "outputs": [],
   "execution_count": 2
  },
  {
   "cell_type": "code",
   "id": "initial_id",
   "metadata": {
    "collapsed": true,
    "ExecuteTime": {
     "end_time": "2024-09-02T14:00:39.452336Z",
     "start_time": "2024-09-02T14:00:35.766380Z"
    }
   },
   "source": [
    "#----第一步 创建提示\n",
    "# 导入LangChain中的提示模板\n",
    "from langchain import PromptTemplate\n",
    "\n",
    "# 原始字符串模板\n",
    "template = \"{flower}的花语是?\"\n",
    "# 创建LangChain模板\n",
    "prompt_temp = PromptTemplate.from_template(template)\n",
    "# 根据模板创建提示\n",
    "prompt = prompt_temp.format(flower='玫瑰')\n",
    "# 打印提示的内容\n",
    "print(prompt)\n",
    "\n",
    "#----第二步 创建并调用模型 \n",
    "# 传入提示，调用模型，返回结果\n",
    "result = model.invoke(prompt)\n",
    "print(result.content)\n"
   ],
   "outputs": [
    {
     "name": "stdout",
     "output_type": "stream",
     "text": [
      "玫瑰的花语是?\n",
      "玫瑰的花语根据颜色有所不同：\n",
      "\n",
      "1. 红色玫瑰：爱情、热恋、热情、勇敢。\n",
      "2. 白色玫瑰：纯洁、天真、尊敬、谦卑。\n",
      "3. 黄色玫瑰：友谊、欢笑、祝福、热情。\n",
      "4. 深红色玫瑰：深爱、浓情、渴望。\n",
      "5. 粉色玫瑰：初恋、爱慕、甜蜜、温柔的爱。\n",
      "6. 橙色玫瑰：羞怯、激情、热爱。\n",
      "7. 蓝色玫瑰：罕见、珍贵、独特、神秘。\n",
      "\n",
      "这些只是常见的几种颜色玫瑰的花语，具体含义可能会根据不同文化或场合有所差异。\n"
     ]
    }
   ],
   "execution_count": 9
  },
  {
   "metadata": {
    "ExecuteTime": {
     "end_time": "2024-09-02T14:04:50.553049Z",
     "start_time": "2024-09-02T14:04:46.791393Z"
    }
   },
   "cell_type": "code",
   "source": [
    "# 使用链来进行调用\n",
    "from langchain import PromptTemplate, LLMChain\n",
    "\n",
    "# 原始字符串模板\n",
    "template = \"{flower}的花语是?\"\n",
    "# 创建模型实例\n",
    "llm = ChatTongyi(model='qwen-turbo', top_p=0.8, temperature=0, api_key=API_KEY)\n",
    "# 创建LLMChain\n",
    "llm_chain = LLMChain(\n",
    "    llm=llm,\n",
    "    prompt=PromptTemplate.from_template(template))\n",
    "# 调用LLMChain，返回结果\n",
    "result = llm_chain.invoke(\"玫瑰\")\n",
    "print(result)"
   ],
   "id": "9b47f820aed129af",
   "outputs": [
    {
     "name": "stdout",
     "output_type": "stream",
     "text": [
      "{'flower': '玫瑰', 'text': '玫瑰的花语根据颜色有所不同：\\n\\n1. 红色玫瑰：爱情、热恋或求婚。\\n2. 白色玫瑰：纯洁、天真、尊敬和谦卑。\\n3. 黄色玫瑰：友谊、热情、愉快和关怀。\\n4. 橙色玫瑰：友谊、热爱和钦佩。\\n5. 粉色玫瑰：温柔的爱、甜蜜的爱和感谢。\\n6. 紫色玫瑰：神秘、珍稀和爱慕。\\n7. 蓝色玫瑰：罕见、珍贵和永恒的爱。\\n8. 黑色玫瑰：不祥、死亡或失去的爱情。\\n\\n不同文化或地区对玫瑰花语的理解可能略有差异，但上述是最为普遍接受的解释。'}\n"
     ]
    }
   ],
   "execution_count": 13
  },
  {
   "metadata": {
    "ExecuteTime": {
     "end_time": "2024-09-02T14:09:05.356662Z",
     "start_time": "2024-09-02T14:08:57.682779Z"
    }
   },
   "cell_type": "code",
   "source": [
    "prompt = PromptTemplate(\n",
    "    input_variables=[\"flower\", \"season\"],\n",
    "    template=\"{flower}在{season}的花语是?\",\n",
    ")\n",
    "\n",
    "llm_chain = LLMChain(llm=llm, prompt=prompt)\n",
    "print(llm_chain({\n",
    "    'flower': '玫瑰',\n",
    "    'season': '夏季'\n",
    "}))"
   ],
   "id": "a46c86e2c2a345a1",
   "outputs": [
    {
     "name": "stdout",
     "output_type": "stream",
     "text": [
      "{'flower': '玫瑰', 'season': '夏季', 'text': '玫瑰在夏季的花语通常指的是夏季盛开的玫瑰所代表的意义。玫瑰是一种在世界范围内广泛种植和欣赏的花卉，不同颜色的玫瑰通常代表着不同的情感或意义。以下是一些常见颜色玫瑰在夏季可能代表的花语：\\n\\n1. **红色玫瑰**：无论在哪个季节，红色玫瑰都象征着热情、爱情和渴望。它表达的是强烈的爱意和激情。\\n\\n2. **粉色玫瑰**：粉色玫瑰通常代表温柔、浪漫和感激之情。在夏季，它可以用来表达对某人的喜爱和赞美。\\n\\n3. **白色玫瑰**：白色玫瑰象征纯洁、尊敬和无邪。在夏季，它们可以用来庆祝新生、婚礼或表达对朋友的尊重和欣赏。\\n\\n4. **黄色玫瑰**：黄色玫瑰代表着友谊、快乐和新开始。在夏季，它们常被用来庆祝友情、祝贺生日或鼓励某人。\\n\\n5. **橙色玫瑰**：橙色玫瑰象征热情、活力和热情的友谊。在夏季，它们可以用来表达对某人的热情邀请或对美好时光的期待。\\n\\n6. **紫色玫瑰**：紫色玫瑰通常代表神秘、魅力和高贵。在夏季，它们可以用来表达对某人的独特魅力的欣赏或对优雅品味的赞赏。\\n\\n7. **黑色玫瑰**：黑色玫瑰虽然较少见，但在某些文化中，它可能象征着不朽、神秘或对逝去之爱的怀念。\\n\\n需要注意的是，不同文化和个人对于玫瑰花语的理解可能存在差异，因此在送花时最好了解接收者的具体喜好和文化背景。'}\n"
     ]
    }
   ],
   "execution_count": 15
  },
  {
   "metadata": {
    "ExecuteTime": {
     "end_time": "2024-09-02T14:11:05.151157Z",
     "start_time": "2024-09-02T14:11:02.565583Z"
    }
   },
   "cell_type": "code",
   "source": "print(llm_chain.predict(flower='玫瑰', season='冬季'))",
   "id": "135f341d35af5e29",
   "outputs": [
    {
     "name": "stdout",
     "output_type": "stream",
     "text": [
      "玫瑰在冬季的花语通常指的是在寒冷季节里开放的冬玫瑰或者圣诞玫瑰（Hellebore），它们在冬天绽放，象征着坚韧不拔、重生和希望。如果指的是情人节或圣诞节等冬季庆祝活动中的玫瑰，则其花语可能与爱情、热情、尊敬或礼物相关。具体到“冬季玫瑰”的花语可能会有所不同，因为不同文化或特定场合可能会赋予其不同的象征意义。\n"
     ]
    }
   ],
   "execution_count": 17
  },
  {
   "metadata": {
    "ExecuteTime": {
     "end_time": "2024-09-02T14:11:52.025138Z",
     "start_time": "2024-09-02T14:11:36.326624Z"
    }
   },
   "cell_type": "code",
   "source": [
    "# apply允许您针对输入列表运行链\n",
    "input_list = [\n",
    "    {\"flower\": \"玫瑰\",'season': \"夏季\"},\n",
    "    {\"flower\": \"百合\",'season': \"春季\"},\n",
    "    {\"flower\": \"郁金香\",'season': \"秋季\"}\n",
    "]\n",
    "result = llm_chain.apply(input_list)\n",
    "print(result)"
   ],
   "id": "8ccb4a2b7452c0",
   "outputs": [
    {
     "name": "stdout",
     "output_type": "stream",
     "text": [
      "[{'text': '玫瑰在夏季的花语通常指的是夏季盛开的玫瑰所代表的意义。玫瑰是一种在世界范围内广泛种植和欣赏的花卉，不同颜色的玫瑰通常代表着不同的情感或意义。以下是一些常见颜色玫瑰在夏季可能代表的花语：\\n\\n1. **红色玫瑰**：无论在哪个季节，红色玫瑰都象征着热情、爱情和渴望。它表达的是强烈的爱意和激情。\\n\\n2. **粉色玫瑰**：粉色玫瑰通常代表温柔、浪漫和感激之情。在夏季，它可以用来表达对某人的喜爱和赞美。\\n\\n3. **白色玫瑰**：白色玫瑰象征纯洁、天真和无邪。在夏季，它们可以用来庆祝新生、婚礼或表达对朋友的纯粹友谊。\\n\\n4. **黄色玫瑰**：黄色玫瑰代表着友谊、快乐和新开始。在夏季，它常用于庆祝友情或表达希望与喜悦。\\n\\n5. **橙色玫瑰**：橙色玫瑰象征着热情、活力和创造力。在夏季，它们可以用来庆祝成就、激励或表达对某人的热情。\\n\\n6. **紫色玫瑰**：紫色玫瑰通常代表神秘、优雅和魅力。在夏季，它们可以用来表达对某人的特别关注或尊敬。\\n\\n7. **黑色玫瑰**：黑色玫瑰在传统上并不常见于夏季，但在一些现代意义上，它可能象征着不朽、悲伤或神秘感。其具体含义可能因文化背景而异。\\n\\n请注意，玫瑰的花语可能会因文化和个人情感的不同而有所变化，而且不同场合下赠送的玫瑰颜色也应根据具体情境来选择。'}, {'text': '在春季，百合的花语通常象征着纯洁、清白和高贵。这些花语反映了百合花在文化中的普遍意义，即代表了纯粹的情感、无瑕的品质以及高尚的道德情操。春天是万物复苏的季节，选择在这个时候赠送或欣赏百合花，往往寓意着对美好事物的向往与追求。'}, {'text': '郁金香在秋季的花语通常与夏季或春季的有所不同，因为郁金香的主要开花季节是在春季。然而，如果在秋季谈论郁金香，可能指的是其作为观赏植物在非传统季节的种植或展示。\\n\\n在一般意义上，不同颜色的郁金香在各个季节里可能有不同的象征意义：\\n\\n- **红色郁金香**：爱、热诚和真挚的爱情。\\n- **粉色郁金香**：美丽和幸福。\\n- **黄色郁金香**：友谊和快乐。\\n- **白色郁金香**：纯洁和尊敬。\\n- **紫色郁金香**：神秘和奢华。\\n\\n如果在秋季特别提到郁金香，这可能象征着对过去季节的美好回忆，或是对即将到来的冬季或新年的期待和希望。不过，花语的解释非常主观，也受到文化背景和个人情感的影响，因此不同的人可能会赋予同一种花不同的意义。'}]\n"
     ]
    }
   ],
   "execution_count": 18
  },
  {
   "metadata": {},
   "cell_type": "markdown",
   "source": "generate 方法类似于 apply，只不过它返回一个 LLMResult 对象，而不是字符串。LLMResult 通常包含模型生成文本过程中的一些相关信息，例如令牌数量、模型名称等。",
   "id": "58deddb898c9d159"
  },
  {
   "metadata": {
    "ExecuteTime": {
     "end_time": "2024-09-02T14:13:07.454647Z",
     "start_time": "2024-09-02T14:12:55.482542Z"
    }
   },
   "cell_type": "code",
   "source": [
    "result = llm_chain.generate(input_list)\n",
    "print(result)\n"
   ],
   "id": "d1c567401b59c3f5",
   "outputs": [
    {
     "name": "stdout",
     "output_type": "stream",
     "text": [
      "generations=[[ChatGeneration(text='玫瑰在夏季的花语通常指的是夏季盛开的玫瑰所代表的意义。玫瑰是一种在世界范围内广泛种植和欣赏的花卉，不同颜色的玫瑰通常代表着不同的情感或意义。以下是一些常见颜色玫瑰在夏季可能代表的花语：\\n\\n1. **红色玫瑰**：无论在哪个季节，红色玫瑰都象征着热情、爱情和渴望。它表达的是强烈的爱意和激情。\\n\\n2. **粉色玫瑰**：粉色玫瑰通常代表温柔、浪漫和感激之情。在夏季，它可以用来表达对某人的喜爱和赞美。\\n\\n3. **白色玫瑰**：白色玫瑰象征纯洁、尊敬和无邪。在夏季，它们可以用来庆祝新生、婚礼或表达对朋友的尊重和欣赏。\\n\\n4. **黄色玫瑰**：黄色玫瑰代表着友谊、快乐和新开始。在夏季，它们常被用来庆祝友情、祝贺生日或鼓励某人。\\n\\n5. **橙色玫瑰**：橙色玫瑰象征热情、活力和热情的友谊。在夏季，它们可以用来表达对某人的热情邀请或对美好时光的期待。\\n\\n6. **紫色玫瑰**：紫色玫瑰通常代表神秘、魅力和高贵。在夏季，它们可以用来表达对某人的独特魅力或神秘感的兴趣。\\n\\n需要注意的是，花语可能因文化背景、个人偏好以及送花的特定情境而有所不同。在选择夏季送花时，考虑接收者的个性、喜好和你们之间的关系，可以更准确地传达你的感情。', generation_info={'finish_reason': 'stop', 'request_id': 'b0b0d0a3-7871-95d7-aaf2-f2e11ce9cd0c', 'token_usage': {'input_tokens': 16, 'output_tokens': 306, 'total_tokens': 322}}, message=AIMessage(content='玫瑰在夏季的花语通常指的是夏季盛开的玫瑰所代表的意义。玫瑰是一种在世界范围内广泛种植和欣赏的花卉，不同颜色的玫瑰通常代表着不同的情感或意义。以下是一些常见颜色玫瑰在夏季可能代表的花语：\\n\\n1. **红色玫瑰**：无论在哪个季节，红色玫瑰都象征着热情、爱情和渴望。它表达的是强烈的爱意和激情。\\n\\n2. **粉色玫瑰**：粉色玫瑰通常代表温柔、浪漫和感激之情。在夏季，它可以用来表达对某人的喜爱和赞美。\\n\\n3. **白色玫瑰**：白色玫瑰象征纯洁、尊敬和无邪。在夏季，它们可以用来庆祝新生、婚礼或表达对朋友的尊重和欣赏。\\n\\n4. **黄色玫瑰**：黄色玫瑰代表着友谊、快乐和新开始。在夏季，它们常被用来庆祝友情、祝贺生日或鼓励某人。\\n\\n5. **橙色玫瑰**：橙色玫瑰象征热情、活力和热情的友谊。在夏季，它们可以用来表达对某人的热情邀请或对美好时光的期待。\\n\\n6. **紫色玫瑰**：紫色玫瑰通常代表神秘、魅力和高贵。在夏季，它们可以用来表达对某人的独特魅力或神秘感的兴趣。\\n\\n需要注意的是，花语可能因文化背景、个人偏好以及送花的特定情境而有所不同。在选择夏季送花时，考虑接收者的个性、喜好和你们之间的关系，可以更准确地传达你的感情。', response_metadata={'model_name': 'qwen-turbo', 'finish_reason': 'stop', 'request_id': 'b0b0d0a3-7871-95d7-aaf2-f2e11ce9cd0c', 'token_usage': {'input_tokens': 16, 'output_tokens': 306, 'total_tokens': 322}}, id='run-1a6b9b0d-88ee-442c-9a4e-bd17a554b9b0-0'))], [ChatGeneration(text='在春季，百合的花语通常象征着纯洁、清白和高贵。这些花语反映了百合花在文化中的普遍意义，即代表了纯粹的情感、无瑕的品质以及高尚的道德情操。春天是万物复苏的季节，选择在这个时候赠送或欣赏百合花，往往寓意着对美好事物的向往与追求。', generation_info={'finish_reason': 'stop', 'request_id': '42621855-96d5-9178-b781-c08a40001edf', 'token_usage': {'input_tokens': 16, 'output_tokens': 73, 'total_tokens': 89}}, message=AIMessage(content='在春季，百合的花语通常象征着纯洁、清白和高贵。这些花语反映了百合花在文化中的普遍意义，即代表了纯粹的情感、无瑕的品质以及高尚的道德情操。春天是万物复苏的季节，选择在这个时候赠送或欣赏百合花，往往寓意着对美好事物的向往与追求。', response_metadata={'model_name': 'qwen-turbo', 'finish_reason': 'stop', 'request_id': '42621855-96d5-9178-b781-c08a40001edf', 'token_usage': {'input_tokens': 16, 'output_tokens': 73, 'total_tokens': 89}}, id='run-626f0e89-7e1c-4449-aa57-3ce9e0ead97c-0'))], [ChatGeneration(text='郁金香在秋季的花语通常与夏季时的花语相似，因为郁金香主要是在春季开花。然而，如果要给秋季的郁金香赋予一个花语，它可能象征着“珍稀、独特”和“无尽的爱”。这是因为郁金香在非传统季节开花，可能会被视为特别或罕见的现象。\\n\\n不过，值得注意的是，不同文化、地区或者个人对于花卉的花语理解可能会有所不同，因此在特定场合使用时，最好了解接收方的具体喜好和文化背景。', generation_info={'finish_reason': 'stop', 'request_id': 'b2222de8-b238-93c0-af28-cf3f29709570', 'token_usage': {'input_tokens': 18, 'output_tokens': 112, 'total_tokens': 130}}, message=AIMessage(content='郁金香在秋季的花语通常与夏季时的花语相似，因为郁金香主要是在春季开花。然而，如果要给秋季的郁金香赋予一个花语，它可能象征着“珍稀、独特”和“无尽的爱”。这是因为郁金香在非传统季节开花，可能会被视为特别或罕见的现象。\\n\\n不过，值得注意的是，不同文化、地区或者个人对于花卉的花语理解可能会有所不同，因此在特定场合使用时，最好了解接收方的具体喜好和文化背景。', response_metadata={'model_name': 'qwen-turbo', 'finish_reason': 'stop', 'request_id': 'b2222de8-b238-93c0-af28-cf3f29709570', 'token_usage': {'input_tokens': 18, 'output_tokens': 112, 'total_tokens': 130}}, id='run-8d465474-9af7-41b5-bbff-219e8db0946c-0'))]] llm_output={'model_name': 'qwen-turbo'} run=[RunInfo(run_id=UUID('1a6b9b0d-88ee-442c-9a4e-bd17a554b9b0')), RunInfo(run_id=UUID('626f0e89-7e1c-4449-aa57-3ce9e0ead97c')), RunInfo(run_id=UUID('8d465474-9af7-41b5-bbff-219e8db0946c'))]\n"
     ]
    }
   ],
   "execution_count": 19
  },
  {
   "metadata": {
    "ExecuteTime": {
     "end_time": "2024-09-03T14:33:07.554465Z",
     "start_time": "2024-09-03T14:32:47.562403Z"
    }
   },
   "cell_type": "code",
   "source": [
    "from langchain.chains import LLMChain\n",
    "from langchain.prompts import PromptTemplate\n",
    "from langchain.chains import SequentialChain\n",
    "\n",
    "# 这是第一个LLMChain，用于生成鲜花的介绍，输入为花的名称和种类\n",
    "llm = ChatTongyi(model='qwen-turbo', top_p=0.8, temperature=1, api_key=API_KEY)\n",
    "template = \"\"\"\n",
    "你是一个植物学家。给定花的名称和类型，你需要为这种花写一个200字左右的介绍。\n",
    "\n",
    "花名: {name}\n",
    "颜色: {color}\n",
    "植物学家: 这是关于上述花的介绍:\"\"\"\n",
    "prompt_template = PromptTemplate(input_variables=[\"name\", \"color\"], template=template)\n",
    "introduction_chain = LLMChain(llm=llm, prompt=prompt_template, output_key=\"introduction\")\n",
    "\n",
    "# 这是第二个LLMChain，用于根据鲜花的介绍写出鲜花的评论\n",
    "llm = ChatTongyi(model='qwen-turbo', top_p=0.8, temperature=1, api_key=API_KEY)\n",
    "template = \"\"\"\n",
    "你是一位鲜花评论家。给定一种花的介绍，你需要为这种花写一篇200字左右的评论。\n",
    "\n",
    "鲜花介绍:\n",
    "{introduction}\n",
    "花评人对上述花的评论:\"\"\"\n",
    "prompt_template = PromptTemplate(input_variables=[\"introduction\"], template=template)\n",
    "review_chain = LLMChain(llm=llm, prompt=prompt_template, output_key=\"review\")\n",
    "\n",
    "# 这是第三个LLMChain，用于根据鲜花的介绍和评论写出一篇自媒体的文案\n",
    "template = \"\"\"\n",
    "你是一家花店的社交媒体经理。给定一种花的介绍和评论，你需要为这种花写一篇社交媒体的帖子，300字左右。\n",
    "\n",
    "鲜花介绍:\n",
    "{introduction}\n",
    "花评人对上述花的评论:\n",
    "{review}\n",
    "\n",
    "社交媒体帖子:\n",
    "\"\"\"\n",
    "prompt_template = PromptTemplate(input_variables=[\"introduction\", \"review\"], template=template)\n",
    "social_post_chain = LLMChain(llm=llm, prompt=prompt_template, output_key=\"social_post_text\")\n",
    "\n",
    "# 这是总的链，我们按顺序运行这三个链\n",
    "overall_chain = SequentialChain(\n",
    "    chains=[introduction_chain, review_chain, social_post_chain],\n",
    "    input_variables=[\"name\", \"color\"],\n",
    "    output_variables=[\"introduction\",\"review\",\"social_post_text\"],\n",
    "    verbose=True)\n",
    "\n",
    "# 运行链，并打印结果\n",
    "result = overall_chain({\"name\":\"玫瑰\", \"color\": \"黑色\"})\n",
    "print(result)\n",
    "\n",
    "\n"
   ],
   "id": "278abcce4375c581",
   "outputs": [
    {
     "name": "stderr",
     "output_type": "stream",
     "text": [
      "H:\\Software\\anaconda\\envs\\LLM-Playground\\Lib\\site-packages\\langchain_core\\_api\\deprecation.py:141: LangChainDeprecationWarning: The class `LLMChain` was deprecated in LangChain 0.1.17 and will be removed in 1.0. Use RunnableSequence, e.g., `prompt | llm` instead.\n",
      "  warn_deprecated(\n",
      "H:\\Software\\anaconda\\envs\\LLM-Playground\\Lib\\site-packages\\langchain_core\\_api\\deprecation.py:141: LangChainDeprecationWarning: The method `Chain.__call__` was deprecated in langchain 0.1.0 and will be removed in 1.0. Use invoke instead.\n",
      "  warn_deprecated(\n"
     ]
    },
    {
     "name": "stdout",
     "output_type": "stream",
     "text": [
      "\n",
      "\n",
      "\u001B[1m> Entering new SequentialChain chain...\u001B[0m\n",
      "\n",
      "\u001B[1m> Finished chain.\u001B[0m\n",
      "{'name': '玫瑰', 'color': '黑色', 'introduction': '玫瑰，作为一种广为人知的花卉，其魅力不仅仅在于其丰富的色彩和芬芳的香气，更在于它那深厚的文化意义和多样化的品种。然而，黑色玫瑰，作为玫瑰家族中较为罕见的成员，更是别具一格，展现出独特的神秘与优雅。\\n\\n在传统上，玫瑰通常被视为爱情、美丽和勇气的象征。不同颜色的玫瑰各具含义，红色代表热情的爱情，粉色寓意着温柔和感激，而白色则象征纯洁与和平。然而，黑色玫瑰却突破了这一常规，它以其独特的外观和稀有性，成为了独特情感表达的载体，常被用来表达深沉的情感、哀悼或是对某种不寻常事物的欣赏。\\n\\n黑色玫瑰的花瓣通常比其他颜色的玫瑰更为细腻且富有光泽，给人一种深邃而又神秘的感觉。它们的生长条件相对苛刻，因此在自然环境中较少见，多通过人工培育获得。在园艺和插花艺术中，黑色玫瑰因其独特的美学价值而备受青睐，成为创造视觉冲击力和情感深度的重要元素。\\n\\n总之，黑色玫瑰不仅是一种花卉，更是一种艺术和情感的体现。它们以自己独有的方式，向人们展示了玫瑰世界的无限可能，激发了人们对美和神秘探索的渴望。', 'review': '黑色玫瑰，这朵在玫瑰家族中独树一帜的花朵，以其深邃的色彩和独特的韵味，赋予了人们对于美的全新理解和感知。在传统的玫瑰文化中，每种颜色都有着其特定的情感寓意，而黑色玫瑰则以其神秘而独特的气质，打破常规，开辟了一片新的情感天地。它不仅仅是对爱情的热烈宣言，或是对纯洁与和平的颂扬，更是在哀悼与缅怀之时，给予心灵最深的慰藉。\\n\\n黑色玫瑰的花瓣细腻而富有光泽，宛如夜空中最璀璨的星辰，散发出一种难以言喻的神秘魅力。它们的生长环境要求苛刻，使得这种花朵更加珍贵和难得，也因此，在园艺和插花艺术中，黑色玫瑰成为了艺术家们展现创意和情感深度的首选。\\n\\n无论是用于装饰还是情感表达，黑色玫瑰都能以其独特的美学价值，创造出强烈的视觉冲击力和深刻的情感共鸣。它们不仅仅是自然界的一抹色彩，更是人类情感世界的一次大胆探索，引领我们走进一个充满想象和可能性的美丽世界。黑色玫瑰，以其独特的魅力，成为了连接过去与未来，现实与梦想的桥梁，激发着我们对于美和未知的无尽追求。', 'social_post_text': '🌟🌹 黑色玫瑰的秘密花园 🌹🌟\\n\\n在这个多彩的世界里，有一种花，它以独特的魅力独树一帜——黑色玫瑰。它不仅是玫瑰家族中罕见的成员，更以其神秘与优雅，展现了花卉世界未曾触及的维度。不同于红玫瑰的热情、粉玫瑰的温柔或白玫瑰的纯洁，黑色玫瑰以其深邃的色彩，打开了情感表达的新篇章。\\n\\n每一片细腻而富有光泽的花瓣，仿佛是夜空中最璀璨的星辰，散发着深邃而独特的光芒。它们的存在，不仅打破了传统玫瑰文化的常规，更以自己独有的方式，诠释了爱、哀悼与不凡的情感。黑色玫瑰，成为了艺术与情感的完美结合，激发了人们对美和神秘的无尽探索。\\n\\n在园艺与插花艺术中，黑色玫瑰因其独特的美学价值，成为了创造视觉冲击力与情感深度的绝佳元素。它们的存在，如同一道桥梁，连接着过去与未来，现实与梦想，引领我们走进一个充满想象和可能性的美丽世界。\\n\\n不论是作为装饰，还是情感的寄托，黑色玫瑰以其独特的魅力，触动着我们的心灵深处。它们不仅是自然界的一抹色彩，更是人类情感世界的一次大胆探索，激励着我们不断追求美与未知。\\n\\n来吧，一起探索这片由黑色玫瑰编织的秘密花园，感受那份超越常规的神秘与优雅，体验一次关于美与情感的全新旅程！✨🌸🌹✨'}\n"
     ]
    }
   ],
   "execution_count": 3
  },
  {
   "metadata": {
    "ExecuteTime": {
     "end_time": "2024-09-03T14:40:24.469473Z",
     "start_time": "2024-09-03T14:39:49.620810Z"
    }
   },
   "cell_type": "code",
   "source": [
    "# 构建两个场景的模板\n",
    "flower_care_template = \"\"\"你是一个经验丰富的园丁，擅长解答关于养花育花的问题。\n",
    "                        下面是需要你来回答的问题:\n",
    "                        {input}\"\"\"\n",
    "\n",
    "flower_deco_template = \"\"\"你是一位网红插花大师，擅长解答关于鲜花装饰的问题。\n",
    "                        下面是需要你来回答的问题:\n",
    "                        {input}\"\"\"\n",
    "\n",
    "# 构建提示信息\n",
    "prompt_infos = [\n",
    "    {\n",
    "        \"key\": \"flower_care\",\n",
    "        \"description\": \"适合回答关于鲜花护理的问题\",\n",
    "        \"template\": flower_care_template,\n",
    "    },\n",
    "    {\n",
    "        \"key\": \"flower_decoration\",\n",
    "        \"description\": \"适合回答关于鲜花装饰的问题\",\n",
    "        \"template\": flower_deco_template,\n",
    "    }]\n",
    "\n",
    "# 构建目标链\n",
    "from langchain.chains.llm import LLMChain\n",
    "from langchain.prompts import PromptTemplate\n",
    "chain_map = {}\n",
    "for info in prompt_infos:\n",
    "    prompt = PromptTemplate(template=info['template'], \n",
    "                            input_variables=[\"input\"])\n",
    "    print(\"目标提示:\\n\",prompt)\n",
    "    chain = LLMChain(llm=llm, prompt=prompt,verbose=True)\n",
    "    chain_map[info[\"key\"]] = chain\n",
    "\n",
    "# 构建路由链\n",
    "from langchain.chains.router.llm_router import LLMRouterChain, RouterOutputParser\n",
    "from langchain.chains.router.multi_prompt_prompt import MULTI_PROMPT_ROUTER_TEMPLATE as RounterTemplate\n",
    "destinations = [f\"{p['key']}: {p['description']}\" for p in prompt_infos]\n",
    "router_template = RounterTemplate.format(destinations=\"\\n\".join(destinations))\n",
    "print(\"路由模板:\\n\",router_template)\n",
    "router_prompt = PromptTemplate(\n",
    "    template=router_template,\n",
    "    input_variables=[\"input\"],\n",
    "    output_parser=RouterOutputParser(),)\n",
    "print(\"路由提示:\\n\",router_prompt)\n",
    "router_chain = LLMRouterChain.from_llm(llm, \n",
    "                                       router_prompt,\n",
    "                                       verbose=True)\n",
    "\n",
    "# 构建默认链\n",
    "from langchain.chains import ConversationChain\n",
    "default_chain = ConversationChain(llm=llm, \n",
    "                                  output_key=\"text\",\n",
    "                                  verbose=True)\n",
    "\n",
    "# 构建多提示链\n",
    "from langchain.chains.router import MultiPromptChain\n",
    "chain = MultiPromptChain(\n",
    "    router_chain=router_chain,\n",
    "    destination_chains=chain_map,\n",
    "    default_chain=default_chain,\n",
    "    verbose=True)\n",
    "\n",
    "print(chain.run(\"如何保养玫瑰花？\"))\n",
    "\n",
    "print(\"-----------------------\")\n",
    "\n",
    "print(chain.run(\"如何用玫瑰花装饰房间？\"))\n",
    "\n",
    "print(\"-----------------------\")\n",
    "\n",
    "print(chain.run(\"如何考入哈佛大学？\"))"
   ],
   "id": "ac2f48f8e962870c",
   "outputs": [
    {
     "name": "stdout",
     "output_type": "stream",
     "text": [
      "目标提示:\n",
      " input_variables=['input'] template='你是一个经验丰富的园丁，擅长解答关于养花育花的问题。\\n                        下面是需要你来回答的问题:\\n                        {input}'\n",
      "目标提示:\n",
      " input_variables=['input'] template='你是一位网红插花大师，擅长解答关于鲜花装饰的问题。\\n                        下面是需要你来回答的问题:\\n                        {input}'\n",
      "路由模板:\n",
      " Given a raw text input to a language model select the model prompt best suited for the input. You will be given the names of the available prompts and a description of what the prompt is best suited for. You may also revise the original input if you think that revising it will ultimately lead to a better response from the language model.\n",
      "\n",
      "<< FORMATTING >>\n",
      "Return a markdown code snippet with a JSON object formatted to look like:\n",
      "```json\n",
      "{{\n",
      "    \"destination\": string \\ name of the prompt to use or \"DEFAULT\"\n",
      "    \"next_inputs\": string \\ a potentially modified version of the original input\n",
      "}}\n",
      "```\n",
      "\n",
      "REMEMBER: \"destination\" MUST be one of the candidate prompt names specified below OR it can be \"DEFAULT\" if the input is not well suited for any of the candidate prompts.\n",
      "REMEMBER: \"next_inputs\" can just be the original input if you don't think any modifications are needed.\n",
      "\n",
      "<< CANDIDATE PROMPTS >>\n",
      "flower_care: 适合回答关于鲜花护理的问题\n",
      "flower_decoration: 适合回答关于鲜花装饰的问题\n",
      "\n",
      "<< INPUT >>\n",
      "{input}\n",
      "\n",
      "<< OUTPUT (must include ```json at the start of the response) >>\n",
      "<< OUTPUT (must end with ```) >>\n",
      "\n",
      "路由提示:\n",
      " input_variables=['input'] output_parser=RouterOutputParser() template='Given a raw text input to a language model select the model prompt best suited for the input. You will be given the names of the available prompts and a description of what the prompt is best suited for. You may also revise the original input if you think that revising it will ultimately lead to a better response from the language model.\\n\\n<< FORMATTING >>\\nReturn a markdown code snippet with a JSON object formatted to look like:\\n```json\\n{{\\n    \"destination\": string \\\\ name of the prompt to use or \"DEFAULT\"\\n    \"next_inputs\": string \\\\ a potentially modified version of the original input\\n}}\\n```\\n\\nREMEMBER: \"destination\" MUST be one of the candidate prompt names specified below OR it can be \"DEFAULT\" if the input is not well suited for any of the candidate prompts.\\nREMEMBER: \"next_inputs\" can just be the original input if you don\\'t think any modifications are needed.\\n\\n<< CANDIDATE PROMPTS >>\\nflower_care: 适合回答关于鲜花护理的问题\\nflower_decoration: 适合回答关于鲜花装饰的问题\\n\\n<< INPUT >>\\n{input}\\n\\n<< OUTPUT (must include ```json at the start of the response) >>\\n<< OUTPUT (must end with ```) >>\\n'\n",
      "\n",
      "\n",
      "\u001B[1m> Entering new MultiPromptChain chain...\u001B[0m\n",
      "\n",
      "\n",
      "\u001B[1m> Entering new LLMRouterChain chain...\u001B[0m\n",
      "\n",
      "\u001B[1m> Finished chain.\u001B[0m\n",
      "flower_care: {'input': '如何保养玫瑰花？'}\n",
      "\n",
      "\u001B[1m> Entering new LLMChain chain...\u001B[0m\n",
      "Prompt after formatting:\n",
      "\u001B[32;1m\u001B[1;3m你是一个经验丰富的园丁，擅长解答关于养花育花的问题。\n",
      "                        下面是需要你来回答的问题:\n",
      "                        如何保养玫瑰花？\u001B[0m\n",
      "\n",
      "\u001B[1m> Finished chain.\u001B[0m\n",
      "\n",
      "\u001B[1m> Finished chain.\u001B[0m\n",
      "保养玫瑰花是一项细致而有乐趣的工作，以下是几个关键步骤帮助您保持玫瑰的健康与美丽：\n",
      "\n",
      "### 1. **土壤管理**\n",
      "- **选择合适的土壤**：玫瑰喜欢排水良好、富含有机质的土壤。如果土壤排水性差，可以在种植时添加珍珠岩或蛭石以改善排水。\n",
      "- **定期施肥**：春季和夏季生长旺盛期，每月施用一次通用型花卉肥料，秋季则可使用一些富含磷钾的肥料促进花芽分化。\n",
      "\n",
      "### 2. **水分管理**\n",
      "- **适量浇水**：保持土壤微湿而非过于湿润。每次浇水后检查土壤湿度，避免积水导致根部腐烂。\n",
      "- **雨季注意排水**：在多雨季节，确保植株周围有足够的排水空间，避免水浸泡根部。\n",
      "\n",
      "### 3. **修剪与整形**\n",
      "- **春季修剪**：春天新芽萌发前进行修剪，去除病弱枝、交叉枝和内向生长的枝条，促进空气流通和光照均匀。\n",
      "- **花后修剪**：每次花朵凋谢后，及时剪掉枯萎的花朵和花梗，可以刺激新花的生长，并减少营养消耗。\n",
      "\n",
      "### 4. **防病虫害**\n",
      "- **定期检查**：经常检查植株叶片和茎部是否有病斑或虫害迹象。\n",
      "- **使用有机防治**：对于轻微的病虫害，可以使用肥皂水喷雾、硫磺粉等天然方法进行防治。严重时考虑使用低毒性的化学农药，但应遵循产品说明并避免对环境造成污染。\n",
      "\n",
      "### 5. **光照与温度**\n",
      "- **充足光照**：玫瑰需要至少6小时的直接阳光，充足的光照有利于花色鲜艳和花香浓郁。\n",
      "- **适宜温度**：玫瑰耐寒性较好，但极端低温或高温可能会影响其生长。保持稳定的生长环境，避免突然的温度变化。\n",
      "\n",
      "### 6. **支持结构**\n",
      "- **支架或支撑**：对于高大的玫瑰品种，使用支撑物如竹竿或金属支架，帮助植株稳定生长，防止倒伏。\n",
      "\n",
      "通过上述这些日常护理，您可以有效地维持玫瑰的健康状态，让它们绽放出更加绚丽的花朵。记得每种玫瑰品种的需求可能会有所不同，根据实际情况灵活调整养护策略。\n",
      "-----------------------\n",
      "\n",
      "\n",
      "\u001B[1m> Entering new MultiPromptChain chain...\u001B[0m\n",
      "\n",
      "\n",
      "\u001B[1m> Entering new LLMRouterChain chain...\u001B[0m\n",
      "\n",
      "\u001B[1m> Finished chain.\u001B[0m\n",
      "flower_decoration: {'input': '如何用玫瑰花装饰房间？'}\n",
      "\n",
      "\u001B[1m> Entering new LLMChain chain...\u001B[0m\n",
      "Prompt after formatting:\n",
      "\u001B[32;1m\u001B[1;3m你是一位网红插花大师，擅长解答关于鲜花装饰的问题。\n",
      "                        下面是需要你来回答的问题:\n",
      "                        如何用玫瑰花装饰房间？\u001B[0m\n",
      "\n",
      "\u001B[1m> Finished chain.\u001B[0m\n",
      "\n",
      "\u001B[1m> Finished chain.\u001B[0m\n",
      "玫瑰花是一种非常受欢迎的花卉，不仅因为其美丽的外观，还因为它们能带来浪漫和温馨的氛围。用玫瑰花装饰房间可以提升空间的美感，增加生活的情趣。以下是一些使用玫瑰花装饰房间的方法：\n",
      "\n",
      "### 1. **花瓶或花器装饰**\n",
      "   - **选择合适的花瓶**：可以选择玻璃、陶瓷或金属材质的花瓶，根据房间的整体风格来选择颜色和形状。\n",
      "   - **单枝展示**：将几枝不同颜色或不同大小的玫瑰花放入花瓶中，可以创造出层次感和视觉焦点。\n",
      "   - **组合花束**：将多枝玫瑰花搭配其他绿植或小花一起组合成花束，放在茶几、书架或窗台上，增添生机与色彩。\n",
      "\n",
      "### 2. **墙面装饰**\n",
      "   - **玫瑰墙**：在一面墙上挂上由多个小型花瓶组成的玫瑰花墙，或者使用玫瑰花图案的壁纸，营造出浪漫的氛围。\n",
      "   - **挂画装饰**：挑选一幅以玫瑰为主题的艺术画作，挂在客厅或卧室的墙上，既美观又富有艺术气息。\n",
      "\n",
      "### 3. **桌面装饰**\n",
      "   - **桌面花瓶**：在桌面上放置一个精美的花瓶，里面插上几枝玫瑰，可以作为日常办公或阅读时的点缀。\n",
      "   - **花瓣散落**：偶尔可以在桌面上或书页之间轻轻撒上一些玫瑰花瓣，增添一丝优雅与浪漫。\n",
      "\n",
      "### 4. **床头装饰**\n",
      "   - **枕头套或抱枕**：选择印有玫瑰图案的枕头套或抱枕，放在床头或沙发上，为休息区域增添一份温馨。\n",
      "   - **床头花瓶**：在床头柜上放一个花瓶，每天更换新鲜的玫瑰，让每晚的睡眠都伴随着花香。\n",
      "\n",
      "### 5. **创意装饰**\n",
      "   - **玫瑰蜡烛**：使用带有玫瑰香味的蜡烛，不仅能够提供温暖的光线，还能带来愉悦的香气体验。\n",
      "   - **DIY装饰品**：利用干玫瑰制作装饰品，如干花风铃、干花吊饰等，既环保又能长久保持美丽。\n",
      "\n",
      "通过上述方法，你可以根据自己的喜好和房间的实际情况，灵活运用玫瑰花来装饰你的居住空间，创造出既美观又具有个人特色的环境。\n",
      "-----------------------\n",
      "\n",
      "\n",
      "\u001B[1m> Entering new MultiPromptChain chain...\u001B[0m\n",
      "\n",
      "\n",
      "\u001B[1m> Entering new LLMRouterChain chain...\u001B[0m\n",
      "\n",
      "\u001B[1m> Finished chain.\u001B[0m\n",
      "None: {'input': '如何考入哈佛大学？'}\n",
      "\n",
      "\u001B[1m> Entering new ConversationChain chain...\u001B[0m\n",
      "Prompt after formatting:\n",
      "\u001B[32;1m\u001B[1;3mThe following is a friendly conversation between a human and an AI. The AI is talkative and provides lots of specific details from its context. If the AI does not know the answer to a question, it truthfully says it does not know.\n",
      "\n",
      "Current conversation:\n",
      "\n",
      "Human: 如何考入哈佛大学？\n",
      "AI:\u001B[0m\n",
      "\n",
      "\u001B[1m> Finished chain.\u001B[0m\n",
      "\n",
      "\u001B[1m> Finished chain.\u001B[0m\n",
      "要进入哈佛大学，通常需要通过以下几个步骤：\n",
      "\n",
      "1. **学术成绩**：首先，你需要有出色的学术成绩。这意味着在高中期间，你的成绩单上应该有高分的GPA（平均绩点）。通常，哈佛大学会优先考虑那些GPA在4.0或接近4.0的学生。\n",
      "\n",
      "2. **标准化考试**：你需要参加并取得优异的成绩，如SAT或ACT。哈佛大学对这两种考试都有很高的要求，通常录取的学生在这些测试中的分数会非常高。\n",
      "\n",
      "3. **申请文书**：哈佛大学非常重视学生的个人陈述、推荐信以及课外活动记录。你需要展示出独特的个性、领导力、社区服务经历以及学术兴趣等。\n",
      "\n",
      "4. **课外活动**：参与多样化的课外活动，如体育、音乐、艺术、科学竞赛、社区服务等，可以展示你的多元才能和领导能力。\n",
      "\n",
      "5. **面试**：哈佛大学可能会邀请部分申请者参加面试。面试通常是个人对个人的，由哈佛校友或工作人员进行，目的是进一步了解你的个性、动机和适应能力。\n",
      "\n",
      "6. **经济状况和多样性**：哈佛大学非常重视来自不同背景和经济状况的学生，因此在录取过程中也会考虑这一点。如果你符合“助学金资格”，学校会提供相应的经济援助。\n",
      "\n",
      "7. **提前申请**：哈佛大学接受早期决定（Early Decision）和早期行动（Early Action）申请。选择这些选项可以帮助你提前获得录取结果，但也意味着如果你被录取，你就必须接受这个录取，不能同时申请其他大学。\n",
      "\n",
      "记住，哈佛大学是一个极其竞争激烈的学校，每年收到的申请数量庞大，但录取率却相对较低。因此，除了上述准备之外，保持积极的心态，展现真实的自我，也是非常重要的。\n"
     ]
    }
   ],
   "execution_count": 13
  },
  {
   "metadata": {
    "ExecuteTime": {
     "end_time": "2024-09-03T14:52:56.174502Z",
     "start_time": "2024-09-03T14:52:44.028560Z"
    }
   },
   "cell_type": "code",
   "source": [
    "\n",
    "from langchain.chains import ConversationChain\n",
    "from langchain.chains.conversation.memory import ConversationBufferMemory\n",
    "\n",
    "# 初始化对话链\n",
    "conversation = ConversationChain(llm=llm,\n",
    "                               memory=ConversationBufferMemory())\n",
    "\n",
    "# 打印对话的模板\n",
    "print(conversation.prompt.template)\n",
    "\n",
    "# 第一天的对话\n",
    "# 回合1\n",
    "conversation(\"我姐姐明天要过生日，我需要一束生日花束。\")\n",
    "print(\"第一次对话后的记忆:\", conversation.memory.buffer)\n",
    "\n",
    "print(\"-----------------------------------\")\n",
    "\n",
    "# 回合2\n",
    "conversation(\"她喜欢粉色玫瑰，颜色是粉色的。\")\n",
    "print(\"第二次对话后的记忆:\", conversation.memory.buffer)\n",
    "\n",
    "print(\"-----------------------------------\")\n",
    "\n",
    "\n",
    "# 回合3 （第二天的对话）\n",
    "conversation(\"我又来了，还记得我昨天为什么要来买花吗？\")\n",
    "print(\"/n第三次对话后时提示:/n\",conversation.prompt.template)\n",
    "print(\"/n第三次对话后的记忆:/n\", conversation.memory.buffer)\n",
    "\n",
    "print(\"-------------------------------------------\")\n",
    "\n",
    "# \n",
    "conversation(\"你还记得我要选一个什么颜色的嘛？\")\n",
    "\n",
    "print(conversation.memory.buffer)"
   ],
   "id": "87ca6ec685f59047",
   "outputs": [
    {
     "name": "stdout",
     "output_type": "stream",
     "text": [
      "The following is a friendly conversation between a human and an AI. The AI is talkative and provides lots of specific details from its context. If the AI does not know the answer to a question, it truthfully says it does not know.\n",
      "\n",
      "Current conversation:\n",
      "{history}\n",
      "Human: {input}\n",
      "AI:\n",
      "第一次对话后的记忆: Human: 我姐姐明天要过生日，我需要一束生日花束。\n",
      "AI: 很高兴能帮助你为你的姐姐庆祝生日！为了提供最佳服务，我需要知道一些额外的信息：\n",
      "\n",
      "1. 你所在的国家或城市是哪里？\n",
      "2. 您希望的花束包含哪些类型的花朵？（例如：玫瑰、百合、康乃馨等）\n",
      "3. 您希望花束的价格范围是多少？\n",
      "4. 如果可能，请提供您所在地区的邮政编码或特定的配送地址。\n",
      "\n",
      "根据这些信息，我可以为您推荐一些在线花店，或者提供在您所在地区购买和配送生日花束的建议。\n",
      "-----------------------------------\n",
      "第二次对话后的记忆: Human: 我姐姐明天要过生日，我需要一束生日花束。\n",
      "AI: 很高兴能帮助你为你的姐姐庆祝生日！为了提供最佳服务，我需要知道一些额外的信息：\n",
      "\n",
      "1. 你所在的国家或城市是哪里？\n",
      "2. 您希望的花束包含哪些类型的花朵？（例如：玫瑰、百合、康乃馨等）\n",
      "3. 您希望花束的价格范围是多少？\n",
      "4. 如果可能，请提供您所在地区的邮政编码或特定的配送地址。\n",
      "\n",
      "根据这些信息，我可以为您推荐一些在线花店，或者提供在您所在地区购买和配送生日花束的建议。\n",
      "Human: 她喜欢粉色玫瑰，颜色是粉色的。\n",
      "AI: 太好了！粉色玫瑰确实是一个非常美丽且浪漫的选择。它们象征着温柔、爱慕与感激之情。考虑到您姐姐的喜好，以下是一些推荐的在线花店，您可以从它们中选择：\n",
      "\n",
      "1. **花点时间**（Flowertime） - 他们在中国提供广泛的鲜花选择，包括各种颜色的玫瑰。您可以定制粉色玫瑰的花束，并根据您的预算调整花束的大小和附加物品（如巧克力、贺卡等）。\n",
      "\n",
      "2. **花加**（Flowerplus） - 这个平台在全球范围内提供鲜花配送服务，包括中国。他们有专门的生日花束系列，您可以轻松找到符合您需求的粉色玫瑰花束。\n",
      "\n",
      "3. **花鸟集**（FlowerBird） - 专注于高质量的鲜花和精致的设计，这个平台在亚洲地区很受欢迎。他们的网站上有很多粉色玫瑰花束供您选择，您可以根据需要调整花束的内容和包装。\n",
      "\n",
      "在选择花店时，请确保查看它们的用户评价、配送政策以及是否提供您所在地区的免费或优惠配送服务。同时，不要忘记在订单中添加个性化信息，如您想附上的祝福语，以便让花束更有意义。\n",
      "\n",
      "希望这些建议对您有所帮助，祝您姐姐生日快乐！\n",
      "-----------------------------------\n",
      "/n第三次对话后时提示:/n The following is a friendly conversation between a human and an AI. The AI is talkative and provides lots of specific details from its context. If the AI does not know the answer to a question, it truthfully says it does not know.\n",
      "\n",
      "Current conversation:\n",
      "{history}\n",
      "Human: {input}\n",
      "AI:\n",
      "/n第三次对话后的记忆:/n Human: 我姐姐明天要过生日，我需要一束生日花束。\n",
      "AI: 很高兴能帮助你为你的姐姐庆祝生日！为了提供最佳服务，我需要知道一些额外的信息：\n",
      "\n",
      "1. 你所在的国家或城市是哪里？\n",
      "2. 您希望的花束包含哪些类型的花朵？（例如：玫瑰、百合、康乃馨等）\n",
      "3. 您希望花束的价格范围是多少？\n",
      "4. 如果可能，请提供您所在地区的邮政编码或特定的配送地址。\n",
      "\n",
      "根据这些信息，我可以为您推荐一些在线花店，或者提供在您所在地区购买和配送生日花束的建议。\n",
      "Human: 她喜欢粉色玫瑰，颜色是粉色的。\n",
      "AI: 太好了！粉色玫瑰确实是一个非常美丽且浪漫的选择。它们象征着温柔、爱慕与感激之情。考虑到您姐姐的喜好，以下是一些推荐的在线花店，您可以从它们中选择：\n",
      "\n",
      "1. **花点时间**（Flowertime） - 他们在中国提供广泛的鲜花选择，包括各种颜色的玫瑰。您可以定制粉色玫瑰的花束，并根据您的预算调整花束的大小和附加物品（如巧克力、贺卡等）。\n",
      "\n",
      "2. **花加**（Flowerplus） - 这个平台在全球范围内提供鲜花配送服务，包括中国。他们有专门的生日花束系列，您可以轻松找到符合您需求的粉色玫瑰花束。\n",
      "\n",
      "3. **花鸟集**（FlowerBird） - 专注于高质量的鲜花和精致的设计，这个平台在亚洲地区很受欢迎。他们的网站上有很多粉色玫瑰花束供您选择，您可以根据需要调整花束的内容和包装。\n",
      "\n",
      "在选择花店时，请确保查看它们的用户评价、配送政策以及是否提供您所在地区的免费或优惠配送服务。同时，不要忘记在订单中添加个性化信息，如您想附上的祝福语，以便让花束更有意义。\n",
      "\n",
      "希望这些建议对您有所帮助，祝您姐姐生日快乐！\n",
      "Human: 我又来了，还记得我昨天为什么要来买花吗？\n",
      "AI: 当然记得！您昨天是为了给您姐姐准备生日花束而来。我们讨论了她喜欢粉色玫瑰，并推荐了几家在线花店，比如花点时间、花加和花鸟集，以便您能够找到合适的粉色玫瑰花束。如果您有任何进一步的问题或者需要帮助，随时告诉我！\n",
      "-------------------------------------------\n",
      "Human: 我姐姐明天要过生日，我需要一束生日花束。\n",
      "AI: 很高兴能帮助你为你的姐姐庆祝生日！为了提供最佳服务，我需要知道一些额外的信息：\n",
      "\n",
      "1. 你所在的国家或城市是哪里？\n",
      "2. 您希望的花束包含哪些类型的花朵？（例如：玫瑰、百合、康乃馨等）\n",
      "3. 您希望花束的价格范围是多少？\n",
      "4. 如果可能，请提供您所在地区的邮政编码或特定的配送地址。\n",
      "\n",
      "根据这些信息，我可以为您推荐一些在线花店，或者提供在您所在地区购买和配送生日花束的建议。\n",
      "Human: 她喜欢粉色玫瑰，颜色是粉色的。\n",
      "AI: 太好了！粉色玫瑰确实是一个非常美丽且浪漫的选择。它们象征着温柔、爱慕与感激之情。考虑到您姐姐的喜好，以下是一些推荐的在线花店，您可以从它们中选择：\n",
      "\n",
      "1. **花点时间**（Flowertime） - 他们在中国提供广泛的鲜花选择，包括各种颜色的玫瑰。您可以定制粉色玫瑰的花束，并根据您的预算调整花束的大小和附加物品（如巧克力、贺卡等）。\n",
      "\n",
      "2. **花加**（Flowerplus） - 这个平台在全球范围内提供鲜花配送服务，包括中国。他们有专门的生日花束系列，您可以轻松找到符合您需求的粉色玫瑰花束。\n",
      "\n",
      "3. **花鸟集**（FlowerBird） - 专注于高质量的鲜花和精致的设计，这个平台在亚洲地区很受欢迎。他们的网站上有很多粉色玫瑰花束供您选择，您可以根据需要调整花束的内容和包装。\n",
      "\n",
      "在选择花店时，请确保查看它们的用户评价、配送政策以及是否提供您所在地区的免费或优惠配送服务。同时，不要忘记在订单中添加个性化信息，如您想附上的祝福语，以便让花束更有意义。\n",
      "\n",
      "希望这些建议对您有所帮助，祝您姐姐生日快乐！\n",
      "Human: 我又来了，还记得我昨天为什么要来买花吗？\n",
      "AI: 当然记得！您昨天是为了给您姐姐准备生日花束而来。我们讨论了她喜欢粉色玫瑰，并推荐了几家在线花店，比如花点时间、花加和花鸟集，以便您能够找到合适的粉色玫瑰花束。如果您有任何进一步的问题或者需要帮助，随时告诉我！\n",
      "Human: 你还记得我要选一个什么颜色的嘛？\n",
      "AI: 是的，我记得很清楚！您想要选择的是粉色玫瑰作为您姐姐的生日花束。粉色玫瑰通常代表着温柔、爱慕与感激之情，是一个非常温馨且浪漫的选择。如果您需要进一步的帮助或者有其他问题，随时欢迎询问！\n"
     ]
    }
   ],
   "execution_count": 20
  },
  {
   "metadata": {},
   "cell_type": "code",
   "outputs": [],
   "execution_count": null,
   "source": "",
   "id": "ecf401dd3d4e23e3"
  },
  {
   "metadata": {},
   "cell_type": "markdown",
   "source": "# 以下的测试不能频繁进行！\n",
   "id": "c53a8db8f153a06b"
  },
  {
   "metadata": {},
   "cell_type": "code",
   "outputs": [],
   "execution_count": null,
   "source": [
    "from langchain.agents import load_tools\n",
    "from langchain.agents import initialize_agent\n",
    "from langchain.agents import AgentType\n",
    "\n"
   ],
   "id": "8c71149a88dc972b"
  }
 ],
 "metadata": {
  "kernelspec": {
   "display_name": "Python 3",
   "language": "python",
   "name": "python3"
  },
  "language_info": {
   "codemirror_mode": {
    "name": "ipython",
    "version": 2
   },
   "file_extension": ".py",
   "mimetype": "text/x-python",
   "name": "python",
   "nbconvert_exporter": "python",
   "pygments_lexer": "ipython2",
   "version": "2.7.6"
  }
 },
 "nbformat": 4,
 "nbformat_minor": 5
}
