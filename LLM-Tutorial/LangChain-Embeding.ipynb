{
 "cells": [
  {
   "cell_type": "code",
   "id": "initial_id",
   "metadata": {
    "collapsed": true,
    "ExecuteTime": {
     "end_time": "2024-09-23T15:10:49.793010Z",
     "start_time": "2024-09-23T15:10:49.377418Z"
    }
   },
   "source": [
    "from langchain.embeddings import DashScopeEmbeddings\n",
    "\n",
    "API_KEY = \"sk-API_KEY\"\n",
    "embeddings_model = DashScopeEmbeddings(dashscope_api_key=API_KEY)\n",
    "\n",
    "embeddings = embeddings_model.embed_documents(\n",
    "    [\n",
    "        \"您好，有什么需要帮忙的吗？\",\n",
    "        \"请您提供一些单号\"\n",
    "    ]\n",
    ")\n",
    "\n",
    "len(embeddings), len(embeddings[0])\n",
    "\n",
    "\n",
    "embedded_query = embeddings_model.embed_query(\"刚才对话中的订单号是多少?\")\n",
    "embedded_query[:3]\n"
   ],
   "outputs": [
    {
     "data": {
      "text/plain": [
       "[-1.2595512866973877, 1.8790581226348877, 0.3709337115287781]"
      ]
     },
     "execution_count": 10,
     "metadata": {},
     "output_type": "execute_result"
    }
   ],
   "execution_count": 10
  },
  {
   "metadata": {
    "ExecuteTime": {
     "end_time": "2024-09-23T15:18:38.702571Z",
     "start_time": "2024-09-23T15:18:38.687829Z"
    }
   },
   "cell_type": "code",
   "source": "\n",
   "id": "246dda5f1f853450",
   "outputs": [],
   "execution_count": 11
  },
  {
   "metadata": {
    "ExecuteTime": {
     "end_time": "2024-09-23T15:37:32.699535Z",
     "start_time": "2024-09-23T15:37:32.147511Z"
    }
   },
   "cell_type": "code",
   "source": [
    "class ChatBotWithMemory:\n",
    "    def __init__(self):\n",
    "        self.llm = ChatTongyi(model='qwen-max', temperature=0)\n",
    "\n",
    "        # 初始化LLM\n",
    "        self.llm = ChatTongyi(model='qwen-max', temperature=0)\n",
    "\n",
    "        # 初始化Prompt\n",
    "        self.prompt = ChatPromptTemplate(\n",
    "            messages=[\n",
    "                SystemMessagePromptTemplate.from_template(\n",
    "                    \"你是一个花卉行家。你通常的回答不超过30字。\"\n",
    "                ),\n",
    "                MessagesPlaceholder(variable_name=\"chat_history\"),\n",
    "                HumanMessagePromptTemplate.from_template(\"{question}\")\n",
    "            ]\n",
    "        )\n",
    "\n",
    "        # 初始化Memory\n",
    "        self.memory = ConversationBufferMemory(memory_key=\"chat_history\", return_messages=True)\n",
    "\n",
    "        # 初始化LLMChain with LLM, prompt and memory\n",
    "        self.conversation = LLMChain(\n",
    "            llm=self.llm,\n",
    "            prompt=self.prompt,\n",
    "            verbose=True,\n",
    "            memory=self.memory\n",
    "        )\n",
    "\n",
    "    # 与机器人交互的函数\n",
    "    def chat_loop(self):\n",
    "        print(\"Chatbot 已启动! 输入'exit'来退出程序。\")\n",
    "        while True:\n",
    "            user_input = input(\"你: \")\n",
    "            if user_input.lower() == 'exit':\n",
    "                print(\"再见!\")\n",
    "                break\n",
    "\n",
    "            response = self.conversation({\"question\": user_input})\n",
    "            print(f\"Chatbot: {response['text']}\")\n",
    "\n",
    "\n",
    "if __name__ == '__main__':\n",
    "    bot = ChatBotWithMemory()\n",
    "    bot.chat_loop()"
   ],
   "id": "f8bb42fc7f10c32d",
   "outputs": [
    {
     "ename": "TypeError",
     "evalue": "cannot pickle 'classmethod' object",
     "output_type": "error",
     "traceback": [
      "\u001B[1;31m---------------------------------------------------------------------------\u001B[0m",
      "\u001B[1;31mTypeError\u001B[0m                                 Traceback (most recent call last)",
      "Cell \u001B[1;32mIn[25], line 3\u001B[0m\n\u001B[0;32m      1\u001B[0m \u001B[38;5;66;03m# 导入langchain的实用工具和相关的模块\u001B[39;00m\n\u001B[0;32m      2\u001B[0m \u001B[38;5;28;01mfrom\u001B[39;00m \u001B[38;5;21;01mlangchain\u001B[39;00m\u001B[38;5;21;01m.\u001B[39;00m\u001B[38;5;21;01mutilities\u001B[39;00m \u001B[38;5;28;01mimport\u001B[39;00m SQLDatabase\n\u001B[1;32m----> 3\u001B[0m \u001B[38;5;28;01mfrom\u001B[39;00m \u001B[38;5;21;01mlangchain_community\u001B[39;00m\u001B[38;5;21;01m.\u001B[39;00m\u001B[38;5;21;01mchat_models\u001B[39;00m \u001B[38;5;28;01mimport\u001B[39;00m ChatTongyi\n\u001B[0;32m      4\u001B[0m \u001B[38;5;28;01mfrom\u001B[39;00m \u001B[38;5;21;01mlangchain_experimental\u001B[39;00m\u001B[38;5;21;01m.\u001B[39;00m\u001B[38;5;21;01msql\u001B[39;00m \u001B[38;5;28;01mimport\u001B[39;00m SQLDatabaseChain\n\u001B[0;32m      6\u001B[0m \u001B[38;5;66;03m# 连接到FlowerShop数据库（之前我们使用的是Chinook.db）\u001B[39;00m\n",
      "File \u001B[1;32m<frozen importlib._bootstrap>:1229\u001B[0m, in \u001B[0;36m_handle_fromlist\u001B[1;34m(module, fromlist, import_, recursive)\u001B[0m\n",
      "File \u001B[1;32mH:\\Software\\anaconda\\envs\\LLM-Playground\\Lib\\site-packages\\langchain_community\\chat_models\\__init__.py:301\u001B[0m, in \u001B[0;36m__getattr__\u001B[1;34m(name)\u001B[0m\n\u001B[0;32m    299\u001B[0m \u001B[38;5;28;01mdef\u001B[39;00m \u001B[38;5;21m__getattr__\u001B[39m(name: \u001B[38;5;28mstr\u001B[39m) \u001B[38;5;241m-\u001B[39m\u001B[38;5;241m>\u001B[39m Any:\n\u001B[0;32m    300\u001B[0m     \u001B[38;5;28;01mif\u001B[39;00m name \u001B[38;5;129;01min\u001B[39;00m _module_lookup:\n\u001B[1;32m--> 301\u001B[0m         module \u001B[38;5;241m=\u001B[39m importlib\u001B[38;5;241m.\u001B[39mimport_module(_module_lookup[name])\n\u001B[0;32m    302\u001B[0m         \u001B[38;5;28;01mreturn\u001B[39;00m \u001B[38;5;28mgetattr\u001B[39m(module, name)\n\u001B[0;32m    303\u001B[0m     \u001B[38;5;28;01mraise\u001B[39;00m \u001B[38;5;167;01mAttributeError\u001B[39;00m(\u001B[38;5;124mf\u001B[39m\u001B[38;5;124m\"\u001B[39m\u001B[38;5;124mmodule \u001B[39m\u001B[38;5;132;01m{\u001B[39;00m\u001B[38;5;18m__name__\u001B[39m\u001B[38;5;132;01m}\u001B[39;00m\u001B[38;5;124m has no attribute \u001B[39m\u001B[38;5;132;01m{\u001B[39;00mname\u001B[38;5;132;01m}\u001B[39;00m\u001B[38;5;124m\"\u001B[39m)\n",
      "File \u001B[1;32mH:\\Software\\anaconda\\envs\\LLM-Playground\\Lib\\importlib\\__init__.py:126\u001B[0m, in \u001B[0;36mimport_module\u001B[1;34m(name, package)\u001B[0m\n\u001B[0;32m    124\u001B[0m             \u001B[38;5;28;01mbreak\u001B[39;00m\n\u001B[0;32m    125\u001B[0m         level \u001B[38;5;241m+\u001B[39m\u001B[38;5;241m=\u001B[39m \u001B[38;5;241m1\u001B[39m\n\u001B[1;32m--> 126\u001B[0m \u001B[38;5;28;01mreturn\u001B[39;00m _bootstrap\u001B[38;5;241m.\u001B[39m_gcd_import(name[level:], package, level)\n",
      "File \u001B[1;32mH:\\Software\\anaconda\\envs\\LLM-Playground\\Lib\\site-packages\\langchain_community\\chat_models\\tongyi.py:27\u001B[0m\n\u001B[0;32m      8\u001B[0m \u001B[38;5;28;01mfrom\u001B[39;00m \u001B[38;5;21;01mtyping\u001B[39;00m \u001B[38;5;28;01mimport\u001B[39;00m (\n\u001B[0;32m      9\u001B[0m     Any,\n\u001B[0;32m     10\u001B[0m     AsyncIterator,\n\u001B[1;32m   (...)\u001B[0m\n\u001B[0;32m     20\u001B[0m     cast,\n\u001B[0;32m     21\u001B[0m )\n\u001B[0;32m     23\u001B[0m \u001B[38;5;28;01mfrom\u001B[39;00m \u001B[38;5;21;01mlangchain_core\u001B[39;00m\u001B[38;5;21;01m.\u001B[39;00m\u001B[38;5;21;01mcallbacks\u001B[39;00m \u001B[38;5;28;01mimport\u001B[39;00m (\n\u001B[0;32m     24\u001B[0m     AsyncCallbackManagerForLLMRun,\n\u001B[0;32m     25\u001B[0m     CallbackManagerForLLMRun,\n\u001B[0;32m     26\u001B[0m )\n\u001B[1;32m---> 27\u001B[0m \u001B[38;5;28;01mfrom\u001B[39;00m \u001B[38;5;21;01mlangchain_core\u001B[39;00m\u001B[38;5;21;01m.\u001B[39;00m\u001B[38;5;21;01mlanguage_models\u001B[39;00m \u001B[38;5;28;01mimport\u001B[39;00m LanguageModelInput\n\u001B[0;32m     28\u001B[0m \u001B[38;5;28;01mfrom\u001B[39;00m \u001B[38;5;21;01mlangchain_core\u001B[39;00m\u001B[38;5;21;01m.\u001B[39;00m\u001B[38;5;21;01mlanguage_models\u001B[39;00m\u001B[38;5;21;01m.\u001B[39;00m\u001B[38;5;21;01mchat_models\u001B[39;00m \u001B[38;5;28;01mimport\u001B[39;00m BaseChatModel\n\u001B[0;32m     29\u001B[0m \u001B[38;5;28;01mfrom\u001B[39;00m \u001B[38;5;21;01mlangchain_core\u001B[39;00m\u001B[38;5;21;01m.\u001B[39;00m\u001B[38;5;21;01mmessages\u001B[39;00m \u001B[38;5;28;01mimport\u001B[39;00m (\n\u001B[0;32m     30\u001B[0m     AIMessage,\n\u001B[0;32m     31\u001B[0m     AIMessageChunk,\n\u001B[1;32m   (...)\u001B[0m\n\u001B[0;32m     42\u001B[0m     ToolMessageChunk,\n\u001B[0;32m     43\u001B[0m )\n",
      "File \u001B[1;32mH:\\Software\\anaconda\\envs\\LLM-Playground\\Lib\\site-packages\\langchain_core\\language_models\\__init__.py:42\u001B[0m\n\u001B[0;32m      1\u001B[0m \u001B[38;5;124;03m\"\"\"**Language Model** is a type of model that can generate text or complete\u001B[39;00m\n\u001B[0;32m      2\u001B[0m \u001B[38;5;124;03mtext prompts.\u001B[39;00m\n\u001B[0;32m      3\u001B[0m \n\u001B[1;32m   (...)\u001B[0m\n\u001B[0;32m     39\u001B[0m \n\u001B[0;32m     40\u001B[0m \u001B[38;5;124;03m\"\"\"\u001B[39;00m  \u001B[38;5;66;03m# noqa: E501\u001B[39;00m\n\u001B[1;32m---> 42\u001B[0m \u001B[38;5;28;01mfrom\u001B[39;00m \u001B[38;5;21;01mlangchain_core\u001B[39;00m\u001B[38;5;21;01m.\u001B[39;00m\u001B[38;5;21;01mlanguage_models\u001B[39;00m\u001B[38;5;21;01m.\u001B[39;00m\u001B[38;5;21;01mbase\u001B[39;00m \u001B[38;5;28;01mimport\u001B[39;00m (\n\u001B[0;32m     43\u001B[0m     BaseLanguageModel,\n\u001B[0;32m     44\u001B[0m     LangSmithParams,\n\u001B[0;32m     45\u001B[0m     LanguageModelInput,\n\u001B[0;32m     46\u001B[0m     LanguageModelLike,\n\u001B[0;32m     47\u001B[0m     LanguageModelOutput,\n\u001B[0;32m     48\u001B[0m     get_tokenizer,\n\u001B[0;32m     49\u001B[0m )\n\u001B[0;32m     50\u001B[0m \u001B[38;5;28;01mfrom\u001B[39;00m \u001B[38;5;21;01mlangchain_core\u001B[39;00m\u001B[38;5;21;01m.\u001B[39;00m\u001B[38;5;21;01mlanguage_models\u001B[39;00m\u001B[38;5;21;01m.\u001B[39;00m\u001B[38;5;21;01mchat_models\u001B[39;00m \u001B[38;5;28;01mimport\u001B[39;00m BaseChatModel, SimpleChatModel\n\u001B[0;32m     51\u001B[0m \u001B[38;5;28;01mfrom\u001B[39;00m \u001B[38;5;21;01mlangchain_core\u001B[39;00m\u001B[38;5;21;01m.\u001B[39;00m\u001B[38;5;21;01mlanguage_models\u001B[39;00m\u001B[38;5;21;01m.\u001B[39;00m\u001B[38;5;21;01mfake\u001B[39;00m \u001B[38;5;28;01mimport\u001B[39;00m FakeListLLM, FakeStreamingListLLM\n",
      "File \u001B[1;32mH:\\Software\\anaconda\\envs\\LLM-Playground\\Lib\\site-packages\\langchain_core\\language_models\\base.py:93\u001B[0m\n\u001B[0;32m     88\u001B[0m     \u001B[38;5;28;01mfrom\u001B[39;00m \u001B[38;5;21;01mlangchain_core\u001B[39;00m\u001B[38;5;21;01m.\u001B[39;00m\u001B[38;5;21;01mglobals\u001B[39;00m \u001B[38;5;28;01mimport\u001B[39;00m get_verbose\n\u001B[0;32m     90\u001B[0m     \u001B[38;5;28;01mreturn\u001B[39;00m get_verbose()\n\u001B[1;32m---> 93\u001B[0m \u001B[38;5;28;01mclass\u001B[39;00m \u001B[38;5;21;01mBaseLanguageModel\u001B[39;00m(\n\u001B[0;32m     94\u001B[0m     RunnableSerializable[LanguageModelInput, LanguageModelOutputVar], ABC\n\u001B[0;32m     95\u001B[0m ):\n\u001B[0;32m     96\u001B[0m \u001B[38;5;250m    \u001B[39m\u001B[38;5;124;03m\"\"\"Abstract base class for interfacing with language models.\u001B[39;00m\n\u001B[0;32m     97\u001B[0m \n\u001B[0;32m     98\u001B[0m \u001B[38;5;124;03m    All language model wrappers inherited from BaseLanguageModel.\u001B[39;00m\n\u001B[0;32m     99\u001B[0m \u001B[38;5;124;03m    \"\"\"\u001B[39;00m\n\u001B[0;32m    101\u001B[0m     cache: Union[BaseCache, \u001B[38;5;28mbool\u001B[39m, \u001B[38;5;28;01mNone\u001B[39;00m] \u001B[38;5;241m=\u001B[39m \u001B[38;5;28;01mNone\u001B[39;00m\n",
      "File \u001B[1;32mH:\\Software\\anaconda\\envs\\LLM-Playground\\Lib\\site-packages\\pydantic\\v1\\main.py:221\u001B[0m, in \u001B[0;36mModelMetaclass.__new__\u001B[1;34m(mcs, name, bases, namespace, **kwargs)\u001B[0m\n\u001B[0;32m    219\u001B[0m \u001B[38;5;28;01melif\u001B[39;00m is_valid_field(var_name) \u001B[38;5;129;01mand\u001B[39;00m var_name \u001B[38;5;129;01mnot\u001B[39;00m \u001B[38;5;129;01min\u001B[39;00m annotations \u001B[38;5;129;01mand\u001B[39;00m can_be_changed:\n\u001B[0;32m    220\u001B[0m     validate_field_name(bases, var_name)\n\u001B[1;32m--> 221\u001B[0m     inferred \u001B[38;5;241m=\u001B[39m ModelField\u001B[38;5;241m.\u001B[39minfer(\n\u001B[0;32m    222\u001B[0m         name\u001B[38;5;241m=\u001B[39mvar_name,\n\u001B[0;32m    223\u001B[0m         value\u001B[38;5;241m=\u001B[39mvalue,\n\u001B[0;32m    224\u001B[0m         annotation\u001B[38;5;241m=\u001B[39mannotations\u001B[38;5;241m.\u001B[39mget(var_name, Undefined),\n\u001B[0;32m    225\u001B[0m         class_validators\u001B[38;5;241m=\u001B[39mvg\u001B[38;5;241m.\u001B[39mget_validators(var_name),\n\u001B[0;32m    226\u001B[0m         config\u001B[38;5;241m=\u001B[39mconfig,\n\u001B[0;32m    227\u001B[0m     )\n\u001B[0;32m    228\u001B[0m     \u001B[38;5;28;01mif\u001B[39;00m var_name \u001B[38;5;129;01min\u001B[39;00m fields:\n\u001B[0;32m    229\u001B[0m         \u001B[38;5;28;01mif\u001B[39;00m lenient_issubclass(inferred\u001B[38;5;241m.\u001B[39mtype_, fields[var_name]\u001B[38;5;241m.\u001B[39mtype_):\n",
      "File \u001B[1;32mH:\\Software\\anaconda\\envs\\LLM-Playground\\Lib\\site-packages\\pydantic\\v1\\fields.py:504\u001B[0m, in \u001B[0;36mModelField.infer\u001B[1;34m(cls, name, value, annotation, class_validators, config)\u001B[0m\n\u001B[0;32m    501\u001B[0m     required \u001B[38;5;241m=\u001B[39m \u001B[38;5;28;01mFalse\u001B[39;00m\n\u001B[0;32m    502\u001B[0m annotation \u001B[38;5;241m=\u001B[39m get_annotation_from_field_info(annotation, field_info, name, config\u001B[38;5;241m.\u001B[39mvalidate_assignment)\n\u001B[1;32m--> 504\u001B[0m \u001B[38;5;28;01mreturn\u001B[39;00m \u001B[38;5;28mcls\u001B[39m(\n\u001B[0;32m    505\u001B[0m     name\u001B[38;5;241m=\u001B[39mname,\n\u001B[0;32m    506\u001B[0m     type_\u001B[38;5;241m=\u001B[39mannotation,\n\u001B[0;32m    507\u001B[0m     alias\u001B[38;5;241m=\u001B[39mfield_info\u001B[38;5;241m.\u001B[39malias,\n\u001B[0;32m    508\u001B[0m     class_validators\u001B[38;5;241m=\u001B[39mclass_validators,\n\u001B[0;32m    509\u001B[0m     default\u001B[38;5;241m=\u001B[39mvalue,\n\u001B[0;32m    510\u001B[0m     default_factory\u001B[38;5;241m=\u001B[39mfield_info\u001B[38;5;241m.\u001B[39mdefault_factory,\n\u001B[0;32m    511\u001B[0m     required\u001B[38;5;241m=\u001B[39mrequired,\n\u001B[0;32m    512\u001B[0m     model_config\u001B[38;5;241m=\u001B[39mconfig,\n\u001B[0;32m    513\u001B[0m     field_info\u001B[38;5;241m=\u001B[39mfield_info,\n\u001B[0;32m    514\u001B[0m )\n",
      "File \u001B[1;32mH:\\Software\\anaconda\\envs\\LLM-Playground\\Lib\\site-packages\\pydantic\\v1\\fields.py:434\u001B[0m, in \u001B[0;36mModelField.__init__\u001B[1;34m(self, name, type_, class_validators, model_config, default, default_factory, required, final, alias, field_info)\u001B[0m\n\u001B[0;32m    432\u001B[0m \u001B[38;5;28mself\u001B[39m\u001B[38;5;241m.\u001B[39mshape: \u001B[38;5;28mint\u001B[39m \u001B[38;5;241m=\u001B[39m SHAPE_SINGLETON\n\u001B[0;32m    433\u001B[0m \u001B[38;5;28mself\u001B[39m\u001B[38;5;241m.\u001B[39mmodel_config\u001B[38;5;241m.\u001B[39mprepare_field(\u001B[38;5;28mself\u001B[39m)\n\u001B[1;32m--> 434\u001B[0m \u001B[38;5;28mself\u001B[39m\u001B[38;5;241m.\u001B[39mprepare()\n",
      "File \u001B[1;32mH:\\Software\\anaconda\\envs\\LLM-Playground\\Lib\\site-packages\\pydantic\\v1\\fields.py:544\u001B[0m, in \u001B[0;36mModelField.prepare\u001B[1;34m(self)\u001B[0m\n\u001B[0;32m    537\u001B[0m \u001B[38;5;28;01mdef\u001B[39;00m \u001B[38;5;21mprepare\u001B[39m(\u001B[38;5;28mself\u001B[39m) \u001B[38;5;241m-\u001B[39m\u001B[38;5;241m>\u001B[39m \u001B[38;5;28;01mNone\u001B[39;00m:\n\u001B[0;32m    538\u001B[0m \u001B[38;5;250m    \u001B[39m\u001B[38;5;124;03m\"\"\"\u001B[39;00m\n\u001B[0;32m    539\u001B[0m \u001B[38;5;124;03m    Prepare the field but inspecting self.default, self.type_ etc.\u001B[39;00m\n\u001B[0;32m    540\u001B[0m \n\u001B[0;32m    541\u001B[0m \u001B[38;5;124;03m    Note: this method is **not** idempotent (because _type_analysis is not idempotent),\u001B[39;00m\n\u001B[0;32m    542\u001B[0m \u001B[38;5;124;03m    e.g. calling it it multiple times may modify the field and configure it incorrectly.\u001B[39;00m\n\u001B[0;32m    543\u001B[0m \u001B[38;5;124;03m    \"\"\"\u001B[39;00m\n\u001B[1;32m--> 544\u001B[0m     \u001B[38;5;28mself\u001B[39m\u001B[38;5;241m.\u001B[39m_set_default_and_type()\n\u001B[0;32m    545\u001B[0m     \u001B[38;5;28;01mif\u001B[39;00m \u001B[38;5;28mself\u001B[39m\u001B[38;5;241m.\u001B[39mtype_\u001B[38;5;241m.\u001B[39m\u001B[38;5;18m__class__\u001B[39m \u001B[38;5;129;01mis\u001B[39;00m ForwardRef \u001B[38;5;129;01mor\u001B[39;00m \u001B[38;5;28mself\u001B[39m\u001B[38;5;241m.\u001B[39mtype_\u001B[38;5;241m.\u001B[39m\u001B[38;5;18m__class__\u001B[39m \u001B[38;5;129;01mis\u001B[39;00m DeferredType:\n\u001B[0;32m    546\u001B[0m         \u001B[38;5;66;03m# self.type_ is currently a ForwardRef and there's nothing we can do now,\u001B[39;00m\n\u001B[0;32m    547\u001B[0m         \u001B[38;5;66;03m# user will need to call model.update_forward_refs()\u001B[39;00m\n\u001B[0;32m    548\u001B[0m         \u001B[38;5;28;01mreturn\u001B[39;00m\n",
      "File \u001B[1;32mH:\\Software\\anaconda\\envs\\LLM-Playground\\Lib\\site-packages\\pydantic\\v1\\fields.py:568\u001B[0m, in \u001B[0;36mModelField._set_default_and_type\u001B[1;34m(self)\u001B[0m\n\u001B[0;32m    563\u001B[0m         \u001B[38;5;28;01mraise\u001B[39;00m errors_\u001B[38;5;241m.\u001B[39mConfigError(\n\u001B[0;32m    564\u001B[0m             \u001B[38;5;124mf\u001B[39m\u001B[38;5;124m'\u001B[39m\u001B[38;5;124myou need to set the type of field \u001B[39m\u001B[38;5;132;01m{\u001B[39;00m\u001B[38;5;28mself\u001B[39m\u001B[38;5;241m.\u001B[39mname\u001B[38;5;132;01m!r}\u001B[39;00m\u001B[38;5;124m when using `default_factory`\u001B[39m\u001B[38;5;124m'\u001B[39m\n\u001B[0;32m    565\u001B[0m         )\n\u001B[0;32m    566\u001B[0m     \u001B[38;5;28;01mreturn\u001B[39;00m\n\u001B[1;32m--> 568\u001B[0m default_value \u001B[38;5;241m=\u001B[39m \u001B[38;5;28mself\u001B[39m\u001B[38;5;241m.\u001B[39mget_default()\n\u001B[0;32m    570\u001B[0m \u001B[38;5;28;01mif\u001B[39;00m default_value \u001B[38;5;129;01mis\u001B[39;00m \u001B[38;5;129;01mnot\u001B[39;00m \u001B[38;5;28;01mNone\u001B[39;00m \u001B[38;5;129;01mand\u001B[39;00m \u001B[38;5;28mself\u001B[39m\u001B[38;5;241m.\u001B[39mtype_ \u001B[38;5;129;01mis\u001B[39;00m Undefined:\n\u001B[0;32m    571\u001B[0m     \u001B[38;5;28mself\u001B[39m\u001B[38;5;241m.\u001B[39mtype_ \u001B[38;5;241m=\u001B[39m default_value\u001B[38;5;241m.\u001B[39m\u001B[38;5;18m__class__\u001B[39m\n",
      "File \u001B[1;32mH:\\Software\\anaconda\\envs\\LLM-Playground\\Lib\\site-packages\\pydantic\\v1\\fields.py:437\u001B[0m, in \u001B[0;36mModelField.get_default\u001B[1;34m(self)\u001B[0m\n\u001B[0;32m    436\u001B[0m \u001B[38;5;28;01mdef\u001B[39;00m \u001B[38;5;21mget_default\u001B[39m(\u001B[38;5;28mself\u001B[39m) \u001B[38;5;241m-\u001B[39m\u001B[38;5;241m>\u001B[39m Any:\n\u001B[1;32m--> 437\u001B[0m     \u001B[38;5;28;01mreturn\u001B[39;00m smart_deepcopy(\u001B[38;5;28mself\u001B[39m\u001B[38;5;241m.\u001B[39mdefault) \u001B[38;5;28;01mif\u001B[39;00m \u001B[38;5;28mself\u001B[39m\u001B[38;5;241m.\u001B[39mdefault_factory \u001B[38;5;129;01mis\u001B[39;00m \u001B[38;5;28;01mNone\u001B[39;00m \u001B[38;5;28;01melse\u001B[39;00m \u001B[38;5;28mself\u001B[39m\u001B[38;5;241m.\u001B[39mdefault_factory()\n",
      "File \u001B[1;32mH:\\Software\\anaconda\\envs\\LLM-Playground\\Lib\\site-packages\\pydantic\\v1\\utils.py:693\u001B[0m, in \u001B[0;36msmart_deepcopy\u001B[1;34m(obj)\u001B[0m\n\u001B[0;32m    689\u001B[0m \u001B[38;5;28;01mexcept\u001B[39;00m (\u001B[38;5;167;01mTypeError\u001B[39;00m, \u001B[38;5;167;01mValueError\u001B[39;00m, \u001B[38;5;167;01mRuntimeError\u001B[39;00m):\n\u001B[0;32m    690\u001B[0m     \u001B[38;5;66;03m# do we really dare to catch ALL errors? Seems a bit risky\u001B[39;00m\n\u001B[0;32m    691\u001B[0m     \u001B[38;5;28;01mpass\u001B[39;00m\n\u001B[1;32m--> 693\u001B[0m \u001B[38;5;28;01mreturn\u001B[39;00m deepcopy(obj)\n",
      "File \u001B[1;32mH:\\Software\\anaconda\\envs\\LLM-Playground\\Lib\\copy.py:172\u001B[0m, in \u001B[0;36mdeepcopy\u001B[1;34m(x, memo, _nil)\u001B[0m\n\u001B[0;32m    170\u001B[0m                 y \u001B[38;5;241m=\u001B[39m x\n\u001B[0;32m    171\u001B[0m             \u001B[38;5;28;01melse\u001B[39;00m:\n\u001B[1;32m--> 172\u001B[0m                 y \u001B[38;5;241m=\u001B[39m _reconstruct(x, memo, \u001B[38;5;241m*\u001B[39mrv)\n\u001B[0;32m    174\u001B[0m \u001B[38;5;66;03m# If is its own copy, don't memoize.\u001B[39;00m\n\u001B[0;32m    175\u001B[0m \u001B[38;5;28;01mif\u001B[39;00m y \u001B[38;5;129;01mis\u001B[39;00m \u001B[38;5;129;01mnot\u001B[39;00m x:\n",
      "File \u001B[1;32mH:\\Software\\anaconda\\envs\\LLM-Playground\\Lib\\copy.py:271\u001B[0m, in \u001B[0;36m_reconstruct\u001B[1;34m(x, memo, func, args, state, listiter, dictiter, deepcopy)\u001B[0m\n\u001B[0;32m    269\u001B[0m \u001B[38;5;28;01mif\u001B[39;00m state \u001B[38;5;129;01mis\u001B[39;00m \u001B[38;5;129;01mnot\u001B[39;00m \u001B[38;5;28;01mNone\u001B[39;00m:\n\u001B[0;32m    270\u001B[0m     \u001B[38;5;28;01mif\u001B[39;00m deep:\n\u001B[1;32m--> 271\u001B[0m         state \u001B[38;5;241m=\u001B[39m deepcopy(state, memo)\n\u001B[0;32m    272\u001B[0m     \u001B[38;5;28;01mif\u001B[39;00m \u001B[38;5;28mhasattr\u001B[39m(y, \u001B[38;5;124m'\u001B[39m\u001B[38;5;124m__setstate__\u001B[39m\u001B[38;5;124m'\u001B[39m):\n\u001B[0;32m    273\u001B[0m         y\u001B[38;5;241m.\u001B[39m__setstate__(state)\n",
      "File \u001B[1;32mH:\\Software\\anaconda\\envs\\LLM-Playground\\Lib\\copy.py:146\u001B[0m, in \u001B[0;36mdeepcopy\u001B[1;34m(x, memo, _nil)\u001B[0m\n\u001B[0;32m    144\u001B[0m copier \u001B[38;5;241m=\u001B[39m _deepcopy_dispatch\u001B[38;5;241m.\u001B[39mget(\u001B[38;5;28mcls\u001B[39m)\n\u001B[0;32m    145\u001B[0m \u001B[38;5;28;01mif\u001B[39;00m copier \u001B[38;5;129;01mis\u001B[39;00m \u001B[38;5;129;01mnot\u001B[39;00m \u001B[38;5;28;01mNone\u001B[39;00m:\n\u001B[1;32m--> 146\u001B[0m     y \u001B[38;5;241m=\u001B[39m copier(x, memo)\n\u001B[0;32m    147\u001B[0m \u001B[38;5;28;01melse\u001B[39;00m:\n\u001B[0;32m    148\u001B[0m     \u001B[38;5;28;01mif\u001B[39;00m \u001B[38;5;28missubclass\u001B[39m(\u001B[38;5;28mcls\u001B[39m, \u001B[38;5;28mtype\u001B[39m):\n",
      "File \u001B[1;32mH:\\Software\\anaconda\\envs\\LLM-Playground\\Lib\\copy.py:231\u001B[0m, in \u001B[0;36m_deepcopy_dict\u001B[1;34m(x, memo, deepcopy)\u001B[0m\n\u001B[0;32m    229\u001B[0m memo[\u001B[38;5;28mid\u001B[39m(x)] \u001B[38;5;241m=\u001B[39m y\n\u001B[0;32m    230\u001B[0m \u001B[38;5;28;01mfor\u001B[39;00m key, value \u001B[38;5;129;01min\u001B[39;00m x\u001B[38;5;241m.\u001B[39mitems():\n\u001B[1;32m--> 231\u001B[0m     y[deepcopy(key, memo)] \u001B[38;5;241m=\u001B[39m deepcopy(value, memo)\n\u001B[0;32m    232\u001B[0m \u001B[38;5;28;01mreturn\u001B[39;00m y\n",
      "File \u001B[1;32mH:\\Software\\anaconda\\envs\\LLM-Playground\\Lib\\copy.py:161\u001B[0m, in \u001B[0;36mdeepcopy\u001B[1;34m(x, memo, _nil)\u001B[0m\n\u001B[0;32m    159\u001B[0m reductor \u001B[38;5;241m=\u001B[39m \u001B[38;5;28mgetattr\u001B[39m(x, \u001B[38;5;124m\"\u001B[39m\u001B[38;5;124m__reduce_ex__\u001B[39m\u001B[38;5;124m\"\u001B[39m, \u001B[38;5;28;01mNone\u001B[39;00m)\n\u001B[0;32m    160\u001B[0m \u001B[38;5;28;01mif\u001B[39;00m reductor \u001B[38;5;129;01mis\u001B[39;00m \u001B[38;5;129;01mnot\u001B[39;00m \u001B[38;5;28;01mNone\u001B[39;00m:\n\u001B[1;32m--> 161\u001B[0m     rv \u001B[38;5;241m=\u001B[39m reductor(\u001B[38;5;241m4\u001B[39m)\n\u001B[0;32m    162\u001B[0m \u001B[38;5;28;01melse\u001B[39;00m:\n\u001B[0;32m    163\u001B[0m     reductor \u001B[38;5;241m=\u001B[39m \u001B[38;5;28mgetattr\u001B[39m(x, \u001B[38;5;124m\"\u001B[39m\u001B[38;5;124m__reduce__\u001B[39m\u001B[38;5;124m\"\u001B[39m, \u001B[38;5;28;01mNone\u001B[39;00m)\n",
      "\u001B[1;31mTypeError\u001B[0m: cannot pickle 'classmethod' object"
     ]
    }
   ],
   "execution_count": 25
  }
 ],
 "metadata": {
  "kernelspec": {
   "display_name": "Python 3",
   "language": "python",
   "name": "python3"
  },
  "language_info": {
   "codemirror_mode": {
    "name": "ipython",
    "version": 2
   },
   "file_extension": ".py",
   "mimetype": "text/x-python",
   "name": "python",
   "nbconvert_exporter": "python",
   "pygments_lexer": "ipython2",
   "version": "2.7.6"
  }
 },
 "nbformat": 4,
 "nbformat_minor": 5
}
