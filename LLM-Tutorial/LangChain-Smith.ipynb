{
 "cells": [
  {
   "cell_type": "code",
   "id": "initial_id",
   "metadata": {
    "collapsed": true,
    "ExecuteTime": {
     "end_time": "2024-09-25T12:58:44.528888Z",
     "start_time": "2024-09-25T12:58:41.645545Z"
    }
   },
   "source": [
    "from langchain.agents import load_tools\n",
    "from langchain.agents import initialize_agent\n",
    "from langchain.agents import AgentType\n",
    "from langchain_community.chat_models import ChatTongyi\n",
    "import os\n",
    "\n",
    "\n",
    "os.environ[\"DASHSCOPE_API_KEY\"] = 'sk-API_KEY'\n",
    "os.environ[\"LANGCHAIN_TRACING_V2\"] = \"true\"\n",
    "os.environ[\"LANGCHAIN_ENDPOINT\"] = \"https://api.smith.langchain.com\"\n",
    "os.environ[\"LANGCHAIN_API_KEY\"] = \"lsv2_pt_\"\n",
    "os.environ[\"LANGCHAIN_PROJECT\"] = \"LangChain-Smith-Demo\"\n",
    "\n",
    "llm = ChatTongyi(model='qwen-turbo', top_p=0.8, temperature=0)\n",
    "\n",
    "llm.invoke(\"你好\")"
   ],
   "outputs": [
    {
     "data": {
      "text/plain": [
       "AIMessage(content='你好！很高兴能为你提供帮助。有什么问题或需要我解答的吗？', additional_kwargs={}, response_metadata={'model_name': 'qwen-turbo', 'finish_reason': 'stop', 'request_id': '2f6c5623-a74c-9679-afd2-c23e179914de', 'token_usage': {'input_tokens': 9, 'output_tokens': 17, 'total_tokens': 26}}, id='run-56f5fd88-2192-4c89-92ca-c6d8cadbe788-0')"
      ]
     },
     "execution_count": 2,
     "metadata": {},
     "output_type": "execute_result"
    }
   ],
   "execution_count": 2
  }
 ],
 "metadata": {
  "kernelspec": {
   "display_name": "Python 3",
   "language": "python",
   "name": "python3"
  },
  "language_info": {
   "codemirror_mode": {
    "name": "ipython",
    "version": 2
   },
   "file_extension": ".py",
   "mimetype": "text/x-python",
   "name": "python",
   "nbconvert_exporter": "python",
   "pygments_lexer": "ipython2",
   "version": "2.7.6"
  }
 },
 "nbformat": 4,
 "nbformat_minor": 5
}
